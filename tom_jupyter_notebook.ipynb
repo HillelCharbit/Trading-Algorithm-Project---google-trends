{
 "cells": [
  {
   "cell_type": "markdown",
   "metadata": {},
   "source": [
    "## Loading Libraries"
   ]
  },
  {
   "cell_type": "code",
   "execution_count": 1,
   "metadata": {},
   "outputs": [
    {
     "name": "stderr",
     "output_type": "stream",
     "text": [
      "C:\\Users\\tomge\\AppData\\Local\\Temp\\ipykernel_33184\\2375269354.py:1: DeprecationWarning: \n",
      "Pyarrow will become a required dependency of pandas in the next major release of pandas (pandas 3.0),\n",
      "(to allow more performant data types, such as the Arrow string type, and better interoperability with other libraries)\n",
      "but was not found to be installed on your system.\n",
      "If this would cause problems for you,\n",
      "please provide us feedback at https://github.com/pandas-dev/pandas/issues/54466\n",
      "        \n",
      "  import pandas as pd\n"
     ]
    }
   ],
   "source": [
    "import pandas as pd\n",
    "import numpy as np\n",
    "import matplotlib.pyplot as plt\n",
    "import seaborn as sns\n",
    "import yfinance as yf"
   ]
  },
  {
   "cell_type": "markdown",
   "metadata": {},
   "source": [
    "## Getting Data"
   ]
  },
  {
   "cell_type": "code",
   "execution_count": 2,
   "metadata": {},
   "outputs": [],
   "source": [
    "df = pd.read_pickle('C:/github/Hmisc/FinanceLab-ass1/final_task_bad_data.pickle')"
   ]
  },
  {
   "cell_type": "markdown",
   "metadata": {},
   "source": [
    "## Viewing data"
   ]
  },
  {
   "cell_type": "code",
   "execution_count": 6,
   "metadata": {},
   "outputs": [
    {
     "data": {
      "text/html": [
       "<div>\n",
       "<style scoped>\n",
       "    .dataframe tbody tr th:only-of-type {\n",
       "        vertical-align: middle;\n",
       "    }\n",
       "\n",
       "    .dataframe tbody tr th {\n",
       "        vertical-align: top;\n",
       "    }\n",
       "\n",
       "    .dataframe thead th {\n",
       "        text-align: right;\n",
       "    }\n",
       "</style>\n",
       "<table border=\"1\" class=\"dataframe\">\n",
       "  <thead>\n",
       "    <tr style=\"text-align: right;\">\n",
       "      <th></th>\n",
       "      <th>Open</th>\n",
       "      <th>High</th>\n",
       "      <th>Low</th>\n",
       "      <th>Close</th>\n",
       "      <th>Volume</th>\n",
       "    </tr>\n",
       "    <tr>\n",
       "      <th>Date</th>\n",
       "      <th></th>\n",
       "      <th></th>\n",
       "      <th></th>\n",
       "      <th></th>\n",
       "      <th></th>\n",
       "    </tr>\n",
       "  </thead>\n",
       "  <tbody>\n",
       "    <tr>\n",
       "      <th>2022-02-17 00:00:00-05:00</th>\n",
       "      <td>154.187493</td>\n",
       "      <td>154.855315</td>\n",
       "      <td>152.114248</td>\n",
       "      <td>152.453140</td>\n",
       "      <td>8110300.0</td>\n",
       "    </tr>\n",
       "    <tr>\n",
       "      <th>2022-02-18 00:00:00-05:00</th>\n",
       "      <td>152.413269</td>\n",
       "      <td>153.180757</td>\n",
       "      <td>149.562559</td>\n",
       "      <td>150.868301</td>\n",
       "      <td>10785500.0</td>\n",
       "    </tr>\n",
       "    <tr>\n",
       "      <th>2022-02-22 00:00:00-05:00</th>\n",
       "      <td>149.702101</td>\n",
       "      <td>150.300143</td>\n",
       "      <td>147.130481</td>\n",
       "      <td>147.608917</td>\n",
       "      <td>12227200.0</td>\n",
       "    </tr>\n",
       "    <tr>\n",
       "      <th>2022-02-23 00:00:00-05:00</th>\n",
       "      <td>149.014346</td>\n",
       "      <td>149.253572</td>\n",
       "      <td>145.027340</td>\n",
       "      <td>145.396133</td>\n",
       "      <td>9300700.0</td>\n",
       "    </tr>\n",
       "    <tr>\n",
       "      <th>2022-02-24 00:00:00-05:00</th>\n",
       "      <td>139.545215</td>\n",
       "      <td>149.084134</td>\n",
       "      <td>139.545215</td>\n",
       "      <td>148.914673</td>\n",
       "      <td>12475500.0</td>\n",
       "    </tr>\n",
       "  </tbody>\n",
       "</table>\n",
       "</div>"
      ],
      "text/plain": [
       "                                 Open        High         Low       Close  \\\n",
       "Date                                                                        \n",
       "2022-02-17 00:00:00-05:00  154.187493  154.855315  152.114248  152.453140   \n",
       "2022-02-18 00:00:00-05:00  152.413269  153.180757  149.562559  150.868301   \n",
       "2022-02-22 00:00:00-05:00  149.702101  150.300143  147.130481  147.608917   \n",
       "2022-02-23 00:00:00-05:00  149.014346  149.253572  145.027340  145.396133   \n",
       "2022-02-24 00:00:00-05:00  139.545215  149.084134  139.545215  148.914673   \n",
       "\n",
       "                               Volume  \n",
       "Date                                   \n",
       "2022-02-17 00:00:00-05:00   8110300.0  \n",
       "2022-02-18 00:00:00-05:00  10785500.0  \n",
       "2022-02-22 00:00:00-05:00  12227200.0  \n",
       "2022-02-23 00:00:00-05:00   9300700.0  \n",
       "2022-02-24 00:00:00-05:00  12475500.0  "
      ]
     },
     "execution_count": 6,
     "metadata": {},
     "output_type": "execute_result"
    }
   ],
   "source": [
    "df.head()"
   ]
  },
  {
   "cell_type": "code",
   "execution_count": 7,
   "metadata": {},
   "outputs": [
    {
     "name": "stdout",
     "output_type": "stream",
     "text": [
      "(502, 5)\n"
     ]
    }
   ],
   "source": [
    "print(df.shape)"
   ]
  },
  {
   "cell_type": "code",
   "execution_count": 8,
   "metadata": {},
   "outputs": [
    {
     "data": {
      "text/html": [
       "<div>\n",
       "<style scoped>\n",
       "    .dataframe tbody tr th:only-of-type {\n",
       "        vertical-align: middle;\n",
       "    }\n",
       "\n",
       "    .dataframe tbody tr th {\n",
       "        vertical-align: top;\n",
       "    }\n",
       "\n",
       "    .dataframe thead th {\n",
       "        text-align: right;\n",
       "    }\n",
       "</style>\n",
       "<table border=\"1\" class=\"dataframe\">\n",
       "  <thead>\n",
       "    <tr style=\"text-align: right;\">\n",
       "      <th></th>\n",
       "      <th>Open</th>\n",
       "      <th>High</th>\n",
       "      <th>Low</th>\n",
       "      <th>Close</th>\n",
       "      <th>Volume</th>\n",
       "    </tr>\n",
       "  </thead>\n",
       "  <tbody>\n",
       "    <tr>\n",
       "      <th>count</th>\n",
       "      <td>502.000000</td>\n",
       "      <td>502.000000</td>\n",
       "      <td>502.000000</td>\n",
       "      <td>502.000000</td>\n",
       "      <td>5.010000e+02</td>\n",
       "    </tr>\n",
       "    <tr>\n",
       "      <th>mean</th>\n",
       "      <td>99.826219</td>\n",
       "      <td>101.003504</td>\n",
       "      <td>98.613673</td>\n",
       "      <td>138.813084</td>\n",
       "      <td>1.290093e+07</td>\n",
       "    </tr>\n",
       "    <tr>\n",
       "      <th>std</th>\n",
       "      <td>15.033235</td>\n",
       "      <td>15.250139</td>\n",
       "      <td>14.678095</td>\n",
       "      <td>624.452058</td>\n",
       "      <td>7.460270e+06</td>\n",
       "    </tr>\n",
       "    <tr>\n",
       "      <th>min</th>\n",
       "      <td>78.843041</td>\n",
       "      <td>79.530799</td>\n",
       "      <td>78.474245</td>\n",
       "      <td>-20.000000</td>\n",
       "      <td>5.426100e+06</td>\n",
       "    </tr>\n",
       "    <tr>\n",
       "      <th>25%</th>\n",
       "      <td>90.092497</td>\n",
       "      <td>90.995822</td>\n",
       "      <td>89.343816</td>\n",
       "      <td>90.181091</td>\n",
       "      <td>8.900900e+06</td>\n",
       "    </tr>\n",
       "    <tr>\n",
       "      <th>50%</th>\n",
       "      <td>96.002118</td>\n",
       "      <td>97.361360</td>\n",
       "      <td>94.801034</td>\n",
       "      <td>95.757915</td>\n",
       "      <td>1.125760e+07</td>\n",
       "    </tr>\n",
       "    <tr>\n",
       "      <th>75%</th>\n",
       "      <td>106.378302</td>\n",
       "      <td>107.644175</td>\n",
       "      <td>104.501919</td>\n",
       "      <td>106.261181</td>\n",
       "      <td>1.420600e+07</td>\n",
       "    </tr>\n",
       "    <tr>\n",
       "      <th>max</th>\n",
       "      <td>154.187493</td>\n",
       "      <td>154.855315</td>\n",
       "      <td>152.114248</td>\n",
       "      <td>9999.000000</td>\n",
       "      <td>7.027350e+07</td>\n",
       "    </tr>\n",
       "  </tbody>\n",
       "</table>\n",
       "</div>"
      ],
      "text/plain": [
       "             Open        High         Low        Close        Volume\n",
       "count  502.000000  502.000000  502.000000   502.000000  5.010000e+02\n",
       "mean    99.826219  101.003504   98.613673   138.813084  1.290093e+07\n",
       "std     15.033235   15.250139   14.678095   624.452058  7.460270e+06\n",
       "min     78.843041   79.530799   78.474245   -20.000000  5.426100e+06\n",
       "25%     90.092497   90.995822   89.343816    90.181091  8.900900e+06\n",
       "50%     96.002118   97.361360   94.801034    95.757915  1.125760e+07\n",
       "75%    106.378302  107.644175  104.501919   106.261181  1.420600e+07\n",
       "max    154.187493  154.855315  152.114248  9999.000000  7.027350e+07"
      ]
     },
     "execution_count": 8,
     "metadata": {},
     "output_type": "execute_result"
    }
   ],
   "source": [
    "df.describe()"
   ]
  },
  {
   "cell_type": "code",
   "execution_count": 10,
   "metadata": {},
   "outputs": [
    {
     "data": {
      "text/plain": [
       "Open      float64\n",
       "High      float64\n",
       "Low       float64\n",
       "Close     float64\n",
       "Volume    float64\n",
       "dtype: object"
      ]
     },
     "execution_count": 10,
     "metadata": {},
     "output_type": "execute_result"
    }
   ],
   "source": [
    "df.dtypes"
   ]
  },
  {
   "cell_type": "code",
   "execution_count": 9,
   "metadata": {},
   "outputs": [
    {
     "data": {
      "text/plain": [
       "Open      0\n",
       "High      0\n",
       "Low       0\n",
       "Close     0\n",
       "Volume    1\n",
       "dtype: int64"
      ]
     },
     "execution_count": 9,
     "metadata": {},
     "output_type": "execute_result"
    }
   ],
   "source": [
    "df.isna().sum()"
   ]
  },
  {
   "cell_type": "code",
   "execution_count": 11,
   "metadata": {},
   "outputs": [
    {
     "data": {
      "text/html": [
       "<div>\n",
       "<style scoped>\n",
       "    .dataframe tbody tr th:only-of-type {\n",
       "        vertical-align: middle;\n",
       "    }\n",
       "\n",
       "    .dataframe tbody tr th {\n",
       "        vertical-align: top;\n",
       "    }\n",
       "\n",
       "    .dataframe thead th {\n",
       "        text-align: right;\n",
       "    }\n",
       "</style>\n",
       "<table border=\"1\" class=\"dataframe\">\n",
       "  <thead>\n",
       "    <tr style=\"text-align: right;\">\n",
       "      <th></th>\n",
       "      <th>Open</th>\n",
       "      <th>High</th>\n",
       "      <th>Low</th>\n",
       "      <th>Close</th>\n",
       "      <th>Volume</th>\n",
       "    </tr>\n",
       "    <tr>\n",
       "      <th>Date</th>\n",
       "      <th></th>\n",
       "      <th></th>\n",
       "      <th></th>\n",
       "      <th></th>\n",
       "      <th></th>\n",
       "    </tr>\n",
       "  </thead>\n",
       "  <tbody>\n",
       "    <tr>\n",
       "      <th>2022-02-17 00:00:00-05:00</th>\n",
       "      <td>154.187493</td>\n",
       "      <td>154.855315</td>\n",
       "      <td>152.114248</td>\n",
       "      <td>152.453140</td>\n",
       "      <td>8110300.0</td>\n",
       "    </tr>\n",
       "    <tr>\n",
       "      <th>2022-02-18 00:00:00-05:00</th>\n",
       "      <td>152.413269</td>\n",
       "      <td>153.180757</td>\n",
       "      <td>149.562559</td>\n",
       "      <td>150.868301</td>\n",
       "      <td>10785500.0</td>\n",
       "    </tr>\n",
       "    <tr>\n",
       "      <th>2022-02-22 00:00:00-05:00</th>\n",
       "      <td>149.702101</td>\n",
       "      <td>150.300143</td>\n",
       "      <td>147.130481</td>\n",
       "      <td>147.608917</td>\n",
       "      <td>12227200.0</td>\n",
       "    </tr>\n",
       "    <tr>\n",
       "      <th>2022-02-23 00:00:00-05:00</th>\n",
       "      <td>149.014346</td>\n",
       "      <td>149.253572</td>\n",
       "      <td>145.027340</td>\n",
       "      <td>145.396133</td>\n",
       "      <td>9300700.0</td>\n",
       "    </tr>\n",
       "    <tr>\n",
       "      <th>2022-02-24 00:00:00-05:00</th>\n",
       "      <td>139.545215</td>\n",
       "      <td>149.084134</td>\n",
       "      <td>139.545215</td>\n",
       "      <td>148.914673</td>\n",
       "      <td>12475500.0</td>\n",
       "    </tr>\n",
       "    <tr>\n",
       "      <th>...</th>\n",
       "      <td>...</td>\n",
       "      <td>...</td>\n",
       "      <td>...</td>\n",
       "      <td>...</td>\n",
       "      <td>...</td>\n",
       "    </tr>\n",
       "    <tr>\n",
       "      <th>2024-02-12 00:00:00-05:00</th>\n",
       "      <td>107.879997</td>\n",
       "      <td>111.059998</td>\n",
       "      <td>107.830002</td>\n",
       "      <td>109.290001</td>\n",
       "      <td>13424000.0</td>\n",
       "    </tr>\n",
       "    <tr>\n",
       "      <th>2024-02-13 00:00:00-05:00</th>\n",
       "      <td>108.279999</td>\n",
       "      <td>110.650002</td>\n",
       "      <td>108.209999</td>\n",
       "      <td>110.459999</td>\n",
       "      <td>14594500.0</td>\n",
       "    </tr>\n",
       "    <tr>\n",
       "      <th>2024-02-14 00:00:00-05:00</th>\n",
       "      <td>110.580002</td>\n",
       "      <td>111.680000</td>\n",
       "      <td>109.669998</td>\n",
       "      <td>111.559998</td>\n",
       "      <td>11405500.0</td>\n",
       "    </tr>\n",
       "    <tr>\n",
       "      <th>2024-02-15 00:00:00-05:00</th>\n",
       "      <td>111.080002</td>\n",
       "      <td>112.919998</td>\n",
       "      <td>111.080002</td>\n",
       "      <td>112.449997</td>\n",
       "      <td>9961900.0</td>\n",
       "    </tr>\n",
       "    <tr>\n",
       "      <th>2024-02-16 00:00:00-05:00</th>\n",
       "      <td>112.019997</td>\n",
       "      <td>112.559998</td>\n",
       "      <td>111.160004</td>\n",
       "      <td>111.599998</td>\n",
       "      <td>8779400.0</td>\n",
       "    </tr>\n",
       "  </tbody>\n",
       "</table>\n",
       "<p>502 rows × 5 columns</p>\n",
       "</div>"
      ],
      "text/plain": [
       "                                 Open        High         Low       Close  \\\n",
       "Date                                                                        \n",
       "2022-02-17 00:00:00-05:00  154.187493  154.855315  152.114248  152.453140   \n",
       "2022-02-18 00:00:00-05:00  152.413269  153.180757  149.562559  150.868301   \n",
       "2022-02-22 00:00:00-05:00  149.702101  150.300143  147.130481  147.608917   \n",
       "2022-02-23 00:00:00-05:00  149.014346  149.253572  145.027340  145.396133   \n",
       "2022-02-24 00:00:00-05:00  139.545215  149.084134  139.545215  148.914673   \n",
       "...                               ...         ...         ...         ...   \n",
       "2024-02-12 00:00:00-05:00  107.879997  111.059998  107.830002  109.290001   \n",
       "2024-02-13 00:00:00-05:00  108.279999  110.650002  108.209999  110.459999   \n",
       "2024-02-14 00:00:00-05:00  110.580002  111.680000  109.669998  111.559998   \n",
       "2024-02-15 00:00:00-05:00  111.080002  112.919998  111.080002  112.449997   \n",
       "2024-02-16 00:00:00-05:00  112.019997  112.559998  111.160004  111.599998   \n",
       "\n",
       "                               Volume  \n",
       "Date                                   \n",
       "2022-02-17 00:00:00-05:00   8110300.0  \n",
       "2022-02-18 00:00:00-05:00  10785500.0  \n",
       "2022-02-22 00:00:00-05:00  12227200.0  \n",
       "2022-02-23 00:00:00-05:00   9300700.0  \n",
       "2022-02-24 00:00:00-05:00  12475500.0  \n",
       "...                               ...  \n",
       "2024-02-12 00:00:00-05:00  13424000.0  \n",
       "2024-02-13 00:00:00-05:00  14594500.0  \n",
       "2024-02-14 00:00:00-05:00  11405500.0  \n",
       "2024-02-15 00:00:00-05:00   9961900.0  \n",
       "2024-02-16 00:00:00-05:00   8779400.0  \n",
       "\n",
       "[502 rows x 5 columns]"
      ]
     },
     "execution_count": 11,
     "metadata": {},
     "output_type": "execute_result"
    }
   ],
   "source": [
    "df"
   ]
  },
  {
   "cell_type": "markdown",
   "metadata": {},
   "source": [
    "## Need to do\n",
    "\n",
    "* handle outliers"
   ]
  },
  {
   "cell_type": "markdown",
   "metadata": {},
   "source": [
    "#### handling outliers"
   ]
  },
  {
   "cell_type": "code",
   "execution_count": 21,
   "metadata": {},
   "outputs": [],
   "source": [
    "# finding outliers limits\n",
    "n = 2\n",
    "df['precentChangeOpen'] = (df['Open']/df['Open'].shift(1)).fillna(0)\n",
    "df['precentChangeHigh'] = (df['High']/df['High'].shift(1)).fillna(0)\n",
    "df['precentChangeLow'] = (df['Low']/df['Low'].shift(1)).fillna(0)\n",
    "df['precentChangeClose'] = (df['Close']/df['Close'].shift(1)).fillna(0)\n",
    "df['precentChangeVolume'] = (df['Volume']/df['Volume'].shift(1)).fillna(0)\n",
    "\n",
    "IQROpen = df['precentChangeOpen'].quantile(0.75) - df['precentChangeOpen'].quantile(0.25)\n",
    "IQRHigh = df['precentChangeHigh'].quantile(0.75) - df['precentChangeHigh'].quantile(0.25)\n",
    "IQRLow = df['precentChangeLow'].quantile(0.75) - df['precentChangeLow'].quantile(0.25)\n",
    "IQRClose = df['precentChangeClose'].quantile(0.75) - df['precentChangeClose'].quantile(0.25)\n",
    "IQRVolume = df['precentChangeVolume'].quantile(0.75) - df['precentChangeVolume'].quantile(0.25)\n",
    "\n",
    "LowerBoundOpen = df['precentChangeOpen'].quantile(0.25) - (n * IQROpen)\n",
    "UpperBoundOpen = df['precentChangeOpen'].quantile(0.75) + (n * IQROpen)\n",
    "LowerBoundHigh = df['precentChangeHigh'].quantile(0.25) - (n * IQRHigh)\n",
    "UpperBoundHigh = df['precentChangeHigh'].quantile(0.75) + (n * IQRHigh)\n",
    "LowerBoundLow = df['precentChangeLow'].quantile(0.25) - (n * IQRLow)\n"
   ]
  },
  {
   "cell_type": "code",
   "execution_count": 20,
   "metadata": {},
   "outputs": [
    {
     "name": "stdout",
     "output_type": "stream",
     "text": [
      "0\n",
      "0\n",
      "0\n",
      "0\n",
      "0\n"
     ]
    }
   ],
   "source": [
    "print(f'{df['precentChangeOpen'][(df['precentChangeOpen'] > UpperBoundOpen) & (df['precentChangeOpen'] < LowerBoundOpen)].count()}')\n",
    "print(f'{df['precentChangeHigh'][(df['precentChangeHigh'] > UpperBoundHigh) & (df['precentChangeHigh'] < LowerBoundHigh)].count()}')\n",
    "print(f'{df['precentChangeLow'][(df['precentChangeLow'] > UpperBoundLow) & (df['precentChangeLow'] < LowerBoundLow)].count()}')\n",
    "print(f'{df['precentChangeClose'][(df['precentChangeClose'] > UpperBoundClose) & (df['precentChangeClose'] < LowerBoundClose)].count()}')\n",
    "print(f'{df['precentChangeVolume'][(df['precentChangeVolume'] > UpperBoundVolume) & (df['precentChangeVolume'] < LowerBoundVolume)].count()}')"
   ]
  },
  {
   "cell_type": "markdown",
   "metadata": {},
   "source": [
    "no outliers"
   ]
  },
  {
   "cell_type": "markdown",
   "metadata": {},
   "source": [
    "# part 2"
   ]
  },
  {
   "cell_type": "markdown",
   "metadata": {},
   "source": [
    "### indicators used in indian scammer video, explained\n",
    "\n",
    "##### UT Bot Indicator key features and introduction\n",
    "\n",
    "UT Bot is a versatile and customisable technical indicator designed to cater to various trading styles, including scalping, intraday, and swing trading. The UT Bot indicator analyses current market conditions in real time using algorithmic calculations and provides insightful, actionable trading signals. Offering an adaptable framework, the UT Bot enables traders to fine-tune their strategies in alignment with their preferred risk tolerance, time horizon, and investment objectives.\n",
    "\n",
    "– Real-time signals: UT Bot’s logic provides real-time entry and exit signals, helping traders identify potential trade opportunities in the market.\n",
    "\n",
    "– Adaptive framework: UT Bot allows traders to customise the indicator parameters to suit their trading styles and objectives.\n",
    "\n",
    "– Compatible with multiple assets: Traders can utilise UT Bot for various financial instruments, including stocks, forex, futures, and cryptocurrencies.\n",
    "\n",
    "– Wide applicability: The UT Bot’s flexibility enables its effective application in diverse trading strategies, ranging from scalping to long-term trading.\n",
    "\n",
    "To enhance the UT Bot indicator’s efficiency, it is recommended to incorporate additional technical analysis tools and chart patterns into the decision-making process.\n",
    "\n",
    "Uses Moving Avrage (MA): to identify overall trend in the market\n",
    "\n",
    "Uses Average True Range (ATR): is used as a trailing stop loss (ATR_TSL)\n",
    "\n",
    "Buy Signal: close price is higher than the ATR and the EMA is over the ATR\n",
    "\n",
    "Sell Signal: close price is lower than the ATR and the EMA is under the ATR\n",
    "\n",
    "##### STC Indicator (Schaff Trend Cycle) key features and introduction\n",
    "\n",
    "The Schaff Trend Cycle (STC) is a unique technical indicator developed by Doug Schaff. STC combines elements of both trend-following and oscillator indicators, resulting in a versatile tool that aims to identify market trends and potential reversals with greater precision and timeliness than traditional indicators.\n",
    "\n",
    "Calculating the Schaff Trend Cycle\n",
    "The Schaff Trend Cycle calculation involves a four-step process:\n",
    "\n",
    "1. Calculate the 23-period Exponential Moving Average (EMA) of the instrument’s closing prices.\n",
    "\n",
    "2. Calculate the 50-period EMA of the instrument’s closing prices.\n",
    "\n",
    "3. Compute the absolute difference between the 23-period and 50-period EMAs.\n",
    "\n",
    "4. Apply the Stochastic oscillator formula to the difference values, combining it with a cycle component (default: 10-period) to obtain the STC curve.\n",
    "\n",
    "Interpreting the Schaff Trend Cycle\n",
    "The STC oscillates in a range between 0 and 100, with values above 25 and below 75 considered “inner bounds”. The interpretation of the Schaff Trend Cycle values is as follows:\n",
    "\n",
    "– When the STC line crosses above the 25 level, it may signal a potential bullish trend, indicating a potential long entry or short exit opportunity.\n",
    "\n",
    "– When the STC line crosses below the 75 level, it could suggest a potential bearish trend, signifying a potential short entry or long exit opportunity.\n",
    "\n",
    "While the Schaff Trend Cycle offers insightful trend signals, it is essential to corroborate these with additional technical indicators and chart patterns before executing trades.\n",
    "\n",
    "STC calculation as follows:\n",
    "\n",
    "1. calculate the 23-period and the 50-period exponential Moving Average (EMA) of the closing price:\n",
    "* EMA_23 = EMA(Close, Short Length = 23)\n",
    "* EMA_50 = EMA(Close, Short Length = 50)\n",
    "2. Determine tha MACD Value:\n",
    "* MACD = EMA_23 - EMA_50\n",
    "3. Calcuate the 10-period Stochastic value from the MACD values:\n",
    "* STC = 100 * (MACD - %K(MACD))/(%D(MACD) - %K(MACD))\n",
    "\n",
    "%K(MACD) - lowest in range\n",
    "%D(MACD) - highest in range"
   ]
  },
  {
   "cell_type": "code",
   "execution_count": 22,
   "metadata": {},
   "outputs": [],
   "source": [
    "import requests\n",
    "\n",
    "def make_api_call(base_url, endpoint=\"\", method=\"GET\", **kwargs):\n",
    "    # Construct the full URL\n",
    "    full_url = f'{base_url}{endpoint}'\n",
    "\n",
    "    # Make the API call\n",
    "    response = requests.request(method=method, url=full_url, **kwargs)\n",
    "    \n",
    "    # Check if the request was successful (status code 200)\n",
    "    if response.status_code == 200:\n",
    "        return response\n",
    "    else:\n",
    "        # If the request was not successful, raise an exception with the error message\n",
    "        raise Exception(f'API request failed with status code {response.status_code}: {response.text}')"
   ]
  },
  {
   "cell_type": "code",
   "execution_count": 23,
   "metadata": {},
   "outputs": [
    {
     "data": {
      "text/plain": [
       "{'serverTime': 1709369253480}"
      ]
     },
     "execution_count": 23,
     "metadata": {},
     "output_type": "execute_result"
    }
   ],
   "source": [
    "base_url = 'https://fapi.binance.com'\n",
    "method = 'GET'\n",
    "endpoint = '/fapi/v1/time'\n",
    "response = make_api_call(base_url, endpoint, method).json()\n",
    "response"
   ]
  },
  {
   "cell_type": "code",
   "execution_count": 24,
   "metadata": {},
   "outputs": [
    {
     "name": "stdout",
     "output_type": "stream",
     "text": [
      "server_time as timestamp: 1709369253.48, date: 2024-03-02 08:47:33 \n",
      "server_time as timestamp: 1709369253.48, date in Asia/Jerusalem: 2024-03-02 10:47:33 IST\n",
      "One week before as timestamp 1708757253.48, date: 2024-02-24 08:47:33 UTC\n"
     ]
    },
    {
     "name": "stderr",
     "output_type": "stream",
     "text": [
      "C:\\Users\\tomge\\AppData\\Local\\Temp\\ipykernel_33184\\2902868958.py:10: DeprecationWarning: datetime.datetime.utcfromtimestamp() is deprecated and scheduled for removal in a future version. Use timezone-aware objects to represent datetimes in UTC: datetime.datetime.fromtimestamp(timestamp, datetime.UTC).\n",
      "  date = datetime.datetime.utcfromtimestamp(int(server_time) / 1000.0)\n",
      "C:\\Users\\tomge\\AppData\\Local\\Temp\\ipykernel_33184\\2902868958.py:15: DeprecationWarning: datetime.datetime.utcfromtimestamp() is deprecated and scheduled for removal in a future version. Use timezone-aware objects to represent datetimes in UTC: datetime.datetime.fromtimestamp(timestamp, datetime.UTC).\n",
      "  utc_date = datetime.datetime.utcfromtimestamp(int(server_time) / 1000.0)\n"
     ]
    }
   ],
   "source": [
    "import datetime\n",
    "import pytz\n",
    "\n",
    "# generalize this part!!!!\n",
    "\n",
    "# extract server timestamp\n",
    "server_time = response['serverTime']\n",
    "\n",
    "# convert timestamp to regular date\n",
    "date = datetime.datetime.utcfromtimestamp(int(server_time) / 1000.0)\n",
    "date_string = date.strftime(\"%Y-%m-%d %H:%M:%S %Z\")\n",
    "print(f'server_time as timestamp: {int(server_time) / 1000.0}, date: {date_string}')\n",
    "\n",
    "# convert timestamp to Asia/Jerusalem\n",
    "utc_date = datetime.datetime.utcfromtimestamp(int(server_time) / 1000.0)\n",
    "jer_tz= pytz.timezone('Asia/Jerusalem')\n",
    "date_in_jer= utc_date.replace(tzinfo=pytz.utc).astimezone(jer_tz)\n",
    "date_string_jer = date_in_jer.strftime(\"%Y-%m-%d %H:%M:%S %Z\")\n",
    "print(f'server_time as timestamp: {int(server_time) / 1000.0}, date in Asia/Jerusalem: {date_string_jer}')\n",
    "\n",
    "# move one week earlier\n",
    "week_before = date - datetime.timedelta(weeks=1)\n",
    "week_before_date_string = week_before.strftime(\"%Y-%m-%d %H:%M:%S UTC\")\n",
    "print(f'One week before as timestamp {week_before.timestamp()}, date: {week_before_date_string}')"
   ]
  },
  {
   "cell_type": "code",
   "execution_count": 25,
   "metadata": {},
   "outputs": [
    {
     "data": {
      "text/plain": [
       "[[1709361000000,\n",
       "  '62327.00',\n",
       "  '62327.00',\n",
       "  '62000.00',\n",
       "  '62020.00',\n",
       "  '2707.193',\n",
       "  1709362799999,\n",
       "  '168263702.32576',\n",
       "  44297,\n",
       "  '1059.306',\n",
       "  '65847049.90800',\n",
       "  '0'],\n",
       " [1709362800000,\n",
       "  '62019.90',\n",
       "  '62069.50',\n",
       "  '61870.00',\n",
       "  '61945.50',\n",
       "  '3387.005',\n",
       "  1709364599999,\n",
       "  '209890549.49320',\n",
       "  52786,\n",
       "  '1634.777',\n",
       "  '101316283.40880',\n",
       "  '0'],\n",
       " [1709364600000,\n",
       "  '61945.50',\n",
       "  '62102.00',\n",
       "  '61902.90',\n",
       "  '62071.90',\n",
       "  '2187.405',\n",
       "  1709366399999,\n",
       "  '135626797.03390',\n",
       "  39039,\n",
       "  '1183.397',\n",
       "  '73373570.75910',\n",
       "  '0'],\n",
       " [1709366400000,\n",
       "  '62071.90',\n",
       "  '62138.60',\n",
       "  '61850.00',\n",
       "  '61986.50',\n",
       "  '3494.570',\n",
       "  1709368199999,\n",
       "  '216600430.46470',\n",
       "  53970,\n",
       "  '1565.108',\n",
       "  '97024248.43540',\n",
       "  '0'],\n",
       " [1709368200000,\n",
       "  '61986.50',\n",
       "  '62217.70',\n",
       "  '61885.80',\n",
       "  '62090.10',\n",
       "  '2820.188',\n",
       "  1709369999999,\n",
       "  '175104071.34567',\n",
       "  44977,\n",
       "  '1616.632',\n",
       "  '100404858.02587',\n",
       "  '0']]"
      ]
     },
     "execution_count": 25,
     "metadata": {},
     "output_type": "execute_result"
    }
   ],
   "source": [
    "# specific endpoint and method\n",
    "method = 'GET'\n",
    "endpoint = '/fapi/v1/klines'\n",
    "\n",
    "# parameters\n",
    "params = {\n",
    "    'symbol': 'BTCUSDT',# Mandatory\n",
    "    'interval': '30m',# Mandatory\n",
    "    # 'startTime': ,\n",
    "    # 'endTime': ,\n",
    "    'limit': 5 # default 500, max 1500\n",
    "}\n",
    "\n",
    "# make call\n",
    "response = make_api_call(base_url, endpoint, method, params=params)\n",
    "response.json()"
   ]
  }
 ],
 "metadata": {
  "kernelspec": {
   "display_name": "Python 3",
   "language": "python",
   "name": "python3"
  },
  "language_info": {
   "codemirror_mode": {
    "name": "ipython",
    "version": 3
   },
   "file_extension": ".py",
   "mimetype": "text/x-python",
   "name": "python",
   "nbconvert_exporter": "python",
   "pygments_lexer": "ipython3",
   "version": "3.12.2"
  }
 },
 "nbformat": 4,
 "nbformat_minor": 2
}
