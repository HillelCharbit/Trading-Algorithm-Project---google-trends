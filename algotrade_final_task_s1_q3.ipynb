{
  "nbformat": 4,
  "nbformat_minor": 0,
  "metadata": {
    "colab": {
      "provenance": []
    },
    "kernelspec": {
      "name": "python3",
      "display_name": "Python 3"
    },
    "language_info": {
      "name": "python"
    }
  },
  "cells": [
    {
      "cell_type": "markdown",
      "source": [
        "# Part 3"
      ],
      "metadata": {
        "id": "G67ATDvbFsRc"
      }
    },
    {
      "cell_type": "markdown",
      "source": [
        "### Import the relevant packages"
      ],
      "metadata": {
        "id": "yIeBTeZAFRSf"
      }
    },
    {
      "cell_type": "code",
      "execution_count": 1,
      "metadata": {
        "id": "J5Kh5ChwVt-T"
      },
      "outputs": [],
      "source": [
        "import numpy as np\n",
        "import pandas as pd\n",
        "import os"
      ]
    },
    {
      "cell_type": "markdown",
      "source": [
        "### Import the data and concatenate all the files so we can work with one file"
      ],
      "metadata": {
        "id": "m0e6p30FFej0"
      }
    },
    {
      "cell_type": "code",
      "source": [
        "folder_path = '/content/sample_data/QQQ'\n",
        "\n",
        "options_dfs = []\n",
        "\n",
        "for filename in os.listdir(folder_path):\n",
        "    if ('2022' not in filename) and ('2023' not in filename):\n",
        "        continue\n",
        "    file_path = os.path.join(folder_path, filename)\n",
        "\n",
        "    options_df = pd.read_csv(file_path, low_memory=False)\n",
        "\n",
        "    options_dfs.append(options_df)\n",
        "\n",
        "options_df = pd.concat(options_dfs, ignore_index=True)\n",
        "\n",
        "# fix column names by removing [, ], \" \" characters\n",
        "options_df.columns = options_df.columns.str.strip('[] ')\n",
        "\n",
        "# Define data types for all columns\n",
        "for col in options_df.columns:\n",
        "    if col.startswith('C_') or col.startswith('P_'):\n",
        "        options_df[col] = pd.to_numeric(options_df[col], errors='coerce')\n",
        "\n",
        "dtypes = {\n",
        "    'QUOTE_UNIXTIME': 'int64',\n",
        "    'QUOTE_READTIME': 'datetime64[ns]',\n",
        "    'QUOTE_DATE': 'datetime64[ns]',\n",
        "    'QUOTE_TIME_HOURS': 'float64',\n",
        "    'UNDERLYING_LAST': 'float64',\n",
        "    'EXPIRE_DATE': 'datetime64[ns]',\n",
        "    'EXPIRE_UNIX': 'int64',\n",
        "    'DTE': 'float64',\n",
        "    'C_DELTA': 'float64',\n",
        "    'C_GAMMA': 'float64',\n",
        "    'C_VEGA': 'float64',\n",
        "    'C_THETA': 'float64',\n",
        "    'C_RHO': 'float64',\n",
        "    'C_IV': 'float64',\n",
        "    'C_VOLUME': 'float64',\n",
        "    'C_LAST': 'float64',\n",
        "    'C_SIZE': 'float64',\n",
        "    'C_BID': 'float64',\n",
        "    'C_ASK': 'float64',\n",
        "    'STRIKE': 'float64',\n",
        "    'P_BID': 'float64',\n",
        "    'P_ASK': 'float64',\n",
        "    'P_SIZE': 'float64',\n",
        "    'P_LAST': 'float64',\n",
        "    'P_DELTA': 'float64',\n",
        "    'P_VOLUME': 'float64',\n",
        "    'STRIKE_DISTANCE': 'float64',\n",
        "    'STRIKE_DISTANCE_PCT': 'float64'\n",
        "}\n",
        "\n",
        "# Convert columns to the specified data types\n",
        "options_df = options_df.astype(dtypes)"
      ],
      "metadata": {
        "id": "7h2md7x_cOYm"
      },
      "execution_count": 2,
      "outputs": []
    },
    {
      "cell_type": "markdown",
      "source": [
        "### Leave only the relevant rows"
      ],
      "metadata": {
        "id": "xntP8EF2Fz1g"
      }
    },
    {
      "cell_type": "code",
      "source": [
        "options_df = options_df[(options_df['C_VOLUME'] >= 100)  & (options_df['P_VOLUME'] >= 100)]"
      ],
      "metadata": {
        "id": "3JBPP8dJfUgA"
      },
      "execution_count": 3,
      "outputs": []
    },
    {
      "cell_type": "markdown",
      "source": [
        "### Define our profit, and what we should do to make it"
      ],
      "metadata": {
        "id": "bBB14ei8JeHy"
      }
    },
    {
      "cell_type": "code",
      "source": [
        "options_df['Profit'] = (options_df['C_LAST'] + options_df['STRIKE'] - options_df['UNDERLYING_LAST'] - options_df['P_LAST']).abs()"
      ],
      "metadata": {
        "id": "qQk6BcClnV_R"
      },
      "execution_count": 10,
      "outputs": []
    },
    {
      "cell_type": "code",
      "source": [
        "max_profit_df = options_df.groupby('QUOTE_DATE').max('Profit')\n",
        "max_profit_df['Action'] =  np.where(\n",
        "    (max_profit_df['C_LAST'] + max_profit_df['STRIKE'] - max_profit_df['UNDERLYING_LAST'] > max_profit_df['P_LAST']), 'Buy Put', 'Buy Call')\n",
        "max_profit_df.sort_values(by = 'Profit', ascending = False).head(5)[['C_LAST', 'P_LAST', 'UNDERLYING_LAST', 'STRIKE', 'Profit', 'Action']]"
      ],
      "metadata": {
        "id": "JHpIXHUFnsMK",
        "colab": {
          "base_uri": "https://localhost:8080/",
          "height": 237
        },
        "outputId": "3d0c6b79-c7a2-462e-c069-ef4d65d432c3"
      },
      "execution_count": 11,
      "outputs": [
        {
          "output_type": "execute_result",
          "data": {
            "text/plain": [
              "            C_LAST  P_LAST  UNDERLYING_LAST  STRIKE  Profit   Action\n",
              "QUOTE_DATE                                                          \n",
              "2023-03-22   51.89   32.64           306.07   325.0   23.18  Buy Put\n",
              "2023-12-12   61.33   35.07           398.75   430.0   21.87  Buy Put\n",
              "2023-03-01   47.20   48.73           291.16   340.0   20.39  Buy Put\n",
              "2023-05-31   54.66   43.50           347.66   375.0   20.14  Buy Put\n",
              "2023-08-07   58.98   24.45           375.18   390.0   19.35  Buy Put"
            ],
            "text/html": [
              "\n",
              "  <div id=\"df-b1ff344c-167b-4b9c-859c-37aafd776e55\" class=\"colab-df-container\">\n",
              "    <div>\n",
              "<style scoped>\n",
              "    .dataframe tbody tr th:only-of-type {\n",
              "        vertical-align: middle;\n",
              "    }\n",
              "\n",
              "    .dataframe tbody tr th {\n",
              "        vertical-align: top;\n",
              "    }\n",
              "\n",
              "    .dataframe thead th {\n",
              "        text-align: right;\n",
              "    }\n",
              "</style>\n",
              "<table border=\"1\" class=\"dataframe\">\n",
              "  <thead>\n",
              "    <tr style=\"text-align: right;\">\n",
              "      <th></th>\n",
              "      <th>C_LAST</th>\n",
              "      <th>P_LAST</th>\n",
              "      <th>UNDERLYING_LAST</th>\n",
              "      <th>STRIKE</th>\n",
              "      <th>Profit</th>\n",
              "      <th>Action</th>\n",
              "    </tr>\n",
              "    <tr>\n",
              "      <th>QUOTE_DATE</th>\n",
              "      <th></th>\n",
              "      <th></th>\n",
              "      <th></th>\n",
              "      <th></th>\n",
              "      <th></th>\n",
              "      <th></th>\n",
              "    </tr>\n",
              "  </thead>\n",
              "  <tbody>\n",
              "    <tr>\n",
              "      <th>2023-03-22</th>\n",
              "      <td>51.89</td>\n",
              "      <td>32.64</td>\n",
              "      <td>306.07</td>\n",
              "      <td>325.0</td>\n",
              "      <td>23.18</td>\n",
              "      <td>Buy Put</td>\n",
              "    </tr>\n",
              "    <tr>\n",
              "      <th>2023-12-12</th>\n",
              "      <td>61.33</td>\n",
              "      <td>35.07</td>\n",
              "      <td>398.75</td>\n",
              "      <td>430.0</td>\n",
              "      <td>21.87</td>\n",
              "      <td>Buy Put</td>\n",
              "    </tr>\n",
              "    <tr>\n",
              "      <th>2023-03-01</th>\n",
              "      <td>47.20</td>\n",
              "      <td>48.73</td>\n",
              "      <td>291.16</td>\n",
              "      <td>340.0</td>\n",
              "      <td>20.39</td>\n",
              "      <td>Buy Put</td>\n",
              "    </tr>\n",
              "    <tr>\n",
              "      <th>2023-05-31</th>\n",
              "      <td>54.66</td>\n",
              "      <td>43.50</td>\n",
              "      <td>347.66</td>\n",
              "      <td>375.0</td>\n",
              "      <td>20.14</td>\n",
              "      <td>Buy Put</td>\n",
              "    </tr>\n",
              "    <tr>\n",
              "      <th>2023-08-07</th>\n",
              "      <td>58.98</td>\n",
              "      <td>24.45</td>\n",
              "      <td>375.18</td>\n",
              "      <td>390.0</td>\n",
              "      <td>19.35</td>\n",
              "      <td>Buy Put</td>\n",
              "    </tr>\n",
              "  </tbody>\n",
              "</table>\n",
              "</div>\n",
              "    <div class=\"colab-df-buttons\">\n",
              "\n",
              "  <div class=\"colab-df-container\">\n",
              "    <button class=\"colab-df-convert\" onclick=\"convertToInteractive('df-b1ff344c-167b-4b9c-859c-37aafd776e55')\"\n",
              "            title=\"Convert this dataframe to an interactive table.\"\n",
              "            style=\"display:none;\">\n",
              "\n",
              "  <svg xmlns=\"http://www.w3.org/2000/svg\" height=\"24px\" viewBox=\"0 -960 960 960\">\n",
              "    <path d=\"M120-120v-720h720v720H120Zm60-500h600v-160H180v160Zm220 220h160v-160H400v160Zm0 220h160v-160H400v160ZM180-400h160v-160H180v160Zm440 0h160v-160H620v160ZM180-180h160v-160H180v160Zm440 0h160v-160H620v160Z\"/>\n",
              "  </svg>\n",
              "    </button>\n",
              "\n",
              "  <style>\n",
              "    .colab-df-container {\n",
              "      display:flex;\n",
              "      gap: 12px;\n",
              "    }\n",
              "\n",
              "    .colab-df-convert {\n",
              "      background-color: #E8F0FE;\n",
              "      border: none;\n",
              "      border-radius: 50%;\n",
              "      cursor: pointer;\n",
              "      display: none;\n",
              "      fill: #1967D2;\n",
              "      height: 32px;\n",
              "      padding: 0 0 0 0;\n",
              "      width: 32px;\n",
              "    }\n",
              "\n",
              "    .colab-df-convert:hover {\n",
              "      background-color: #E2EBFA;\n",
              "      box-shadow: 0px 1px 2px rgba(60, 64, 67, 0.3), 0px 1px 3px 1px rgba(60, 64, 67, 0.15);\n",
              "      fill: #174EA6;\n",
              "    }\n",
              "\n",
              "    .colab-df-buttons div {\n",
              "      margin-bottom: 4px;\n",
              "    }\n",
              "\n",
              "    [theme=dark] .colab-df-convert {\n",
              "      background-color: #3B4455;\n",
              "      fill: #D2E3FC;\n",
              "    }\n",
              "\n",
              "    [theme=dark] .colab-df-convert:hover {\n",
              "      background-color: #434B5C;\n",
              "      box-shadow: 0px 1px 3px 1px rgba(0, 0, 0, 0.15);\n",
              "      filter: drop-shadow(0px 1px 2px rgba(0, 0, 0, 0.3));\n",
              "      fill: #FFFFFF;\n",
              "    }\n",
              "  </style>\n",
              "\n",
              "    <script>\n",
              "      const buttonEl =\n",
              "        document.querySelector('#df-b1ff344c-167b-4b9c-859c-37aafd776e55 button.colab-df-convert');\n",
              "      buttonEl.style.display =\n",
              "        google.colab.kernel.accessAllowed ? 'block' : 'none';\n",
              "\n",
              "      async function convertToInteractive(key) {\n",
              "        const element = document.querySelector('#df-b1ff344c-167b-4b9c-859c-37aafd776e55');\n",
              "        const dataTable =\n",
              "          await google.colab.kernel.invokeFunction('convertToInteractive',\n",
              "                                                    [key], {});\n",
              "        if (!dataTable) return;\n",
              "\n",
              "        const docLinkHtml = 'Like what you see? Visit the ' +\n",
              "          '<a target=\"_blank\" href=https://colab.research.google.com/notebooks/data_table.ipynb>data table notebook</a>'\n",
              "          + ' to learn more about interactive tables.';\n",
              "        element.innerHTML = '';\n",
              "        dataTable['output_type'] = 'display_data';\n",
              "        await google.colab.output.renderOutput(dataTable, element);\n",
              "        const docLink = document.createElement('div');\n",
              "        docLink.innerHTML = docLinkHtml;\n",
              "        element.appendChild(docLink);\n",
              "      }\n",
              "    </script>\n",
              "  </div>\n",
              "\n",
              "\n",
              "<div id=\"df-c7811391-0018-439d-9f1b-57e488f509ad\">\n",
              "  <button class=\"colab-df-quickchart\" onclick=\"quickchart('df-c7811391-0018-439d-9f1b-57e488f509ad')\"\n",
              "            title=\"Suggest charts\"\n",
              "            style=\"display:none;\">\n",
              "\n",
              "<svg xmlns=\"http://www.w3.org/2000/svg\" height=\"24px\"viewBox=\"0 0 24 24\"\n",
              "     width=\"24px\">\n",
              "    <g>\n",
              "        <path d=\"M19 3H5c-1.1 0-2 .9-2 2v14c0 1.1.9 2 2 2h14c1.1 0 2-.9 2-2V5c0-1.1-.9-2-2-2zM9 17H7v-7h2v7zm4 0h-2V7h2v10zm4 0h-2v-4h2v4z\"/>\n",
              "    </g>\n",
              "</svg>\n",
              "  </button>\n",
              "\n",
              "<style>\n",
              "  .colab-df-quickchart {\n",
              "      --bg-color: #E8F0FE;\n",
              "      --fill-color: #1967D2;\n",
              "      --hover-bg-color: #E2EBFA;\n",
              "      --hover-fill-color: #174EA6;\n",
              "      --disabled-fill-color: #AAA;\n",
              "      --disabled-bg-color: #DDD;\n",
              "  }\n",
              "\n",
              "  [theme=dark] .colab-df-quickchart {\n",
              "      --bg-color: #3B4455;\n",
              "      --fill-color: #D2E3FC;\n",
              "      --hover-bg-color: #434B5C;\n",
              "      --hover-fill-color: #FFFFFF;\n",
              "      --disabled-bg-color: #3B4455;\n",
              "      --disabled-fill-color: #666;\n",
              "  }\n",
              "\n",
              "  .colab-df-quickchart {\n",
              "    background-color: var(--bg-color);\n",
              "    border: none;\n",
              "    border-radius: 50%;\n",
              "    cursor: pointer;\n",
              "    display: none;\n",
              "    fill: var(--fill-color);\n",
              "    height: 32px;\n",
              "    padding: 0;\n",
              "    width: 32px;\n",
              "  }\n",
              "\n",
              "  .colab-df-quickchart:hover {\n",
              "    background-color: var(--hover-bg-color);\n",
              "    box-shadow: 0 1px 2px rgba(60, 64, 67, 0.3), 0 1px 3px 1px rgba(60, 64, 67, 0.15);\n",
              "    fill: var(--button-hover-fill-color);\n",
              "  }\n",
              "\n",
              "  .colab-df-quickchart-complete:disabled,\n",
              "  .colab-df-quickchart-complete:disabled:hover {\n",
              "    background-color: var(--disabled-bg-color);\n",
              "    fill: var(--disabled-fill-color);\n",
              "    box-shadow: none;\n",
              "  }\n",
              "\n",
              "  .colab-df-spinner {\n",
              "    border: 2px solid var(--fill-color);\n",
              "    border-color: transparent;\n",
              "    border-bottom-color: var(--fill-color);\n",
              "    animation:\n",
              "      spin 1s steps(1) infinite;\n",
              "  }\n",
              "\n",
              "  @keyframes spin {\n",
              "    0% {\n",
              "      border-color: transparent;\n",
              "      border-bottom-color: var(--fill-color);\n",
              "      border-left-color: var(--fill-color);\n",
              "    }\n",
              "    20% {\n",
              "      border-color: transparent;\n",
              "      border-left-color: var(--fill-color);\n",
              "      border-top-color: var(--fill-color);\n",
              "    }\n",
              "    30% {\n",
              "      border-color: transparent;\n",
              "      border-left-color: var(--fill-color);\n",
              "      border-top-color: var(--fill-color);\n",
              "      border-right-color: var(--fill-color);\n",
              "    }\n",
              "    40% {\n",
              "      border-color: transparent;\n",
              "      border-right-color: var(--fill-color);\n",
              "      border-top-color: var(--fill-color);\n",
              "    }\n",
              "    60% {\n",
              "      border-color: transparent;\n",
              "      border-right-color: var(--fill-color);\n",
              "    }\n",
              "    80% {\n",
              "      border-color: transparent;\n",
              "      border-right-color: var(--fill-color);\n",
              "      border-bottom-color: var(--fill-color);\n",
              "    }\n",
              "    90% {\n",
              "      border-color: transparent;\n",
              "      border-bottom-color: var(--fill-color);\n",
              "    }\n",
              "  }\n",
              "</style>\n",
              "\n",
              "  <script>\n",
              "    async function quickchart(key) {\n",
              "      const quickchartButtonEl =\n",
              "        document.querySelector('#' + key + ' button');\n",
              "      quickchartButtonEl.disabled = true;  // To prevent multiple clicks.\n",
              "      quickchartButtonEl.classList.add('colab-df-spinner');\n",
              "      try {\n",
              "        const charts = await google.colab.kernel.invokeFunction(\n",
              "            'suggestCharts', [key], {});\n",
              "      } catch (error) {\n",
              "        console.error('Error during call to suggestCharts:', error);\n",
              "      }\n",
              "      quickchartButtonEl.classList.remove('colab-df-spinner');\n",
              "      quickchartButtonEl.classList.add('colab-df-quickchart-complete');\n",
              "    }\n",
              "    (() => {\n",
              "      let quickchartButtonEl =\n",
              "        document.querySelector('#df-c7811391-0018-439d-9f1b-57e488f509ad button');\n",
              "      quickchartButtonEl.style.display =\n",
              "        google.colab.kernel.accessAllowed ? 'block' : 'none';\n",
              "    })();\n",
              "  </script>\n",
              "</div>\n",
              "    </div>\n",
              "  </div>\n"
            ],
            "application/vnd.google.colaboratory.intrinsic+json": {
              "type": "dataframe",
              "summary": "{\n  \"name\": \"max_profit_df\",\n  \"rows\": 5,\n  \"fields\": [\n    {\n      \"column\": \"QUOTE_DATE\",\n      \"properties\": {\n        \"dtype\": \"date\",\n        \"min\": \"2023-03-01 00:00:00\",\n        \"max\": \"2023-12-12 00:00:00\",\n        \"num_unique_values\": 5,\n        \"samples\": [\n          \"2023-12-12 00:00:00\",\n          \"2023-08-07 00:00:00\",\n          \"2023-03-01 00:00:00\"\n        ],\n        \"semantic_type\": \"\",\n        \"description\": \"\"\n      }\n    },\n    {\n      \"column\": \"C_LAST\",\n      \"properties\": {\n        \"dtype\": \"number\",\n        \"std\": 5.620504425761088,\n        \"min\": 47.2,\n        \"max\": 61.33,\n        \"num_unique_values\": 5,\n        \"samples\": [\n          61.33,\n          58.98,\n          47.2\n        ],\n        \"semantic_type\": \"\",\n        \"description\": \"\"\n      }\n    },\n    {\n      \"column\": \"P_LAST\",\n      \"properties\": {\n        \"dtype\": \"number\",\n        \"std\": 9.486905185570265,\n        \"min\": 24.45,\n        \"max\": 48.73,\n        \"num_unique_values\": 5,\n        \"samples\": [\n          35.07,\n          24.45,\n          48.73\n        ],\n        \"semantic_type\": \"\",\n        \"description\": \"\"\n      }\n    },\n    {\n      \"column\": \"UNDERLYING_LAST\",\n      \"properties\": {\n        \"dtype\": \"number\",\n        \"std\": 45.3145189757102,\n        \"min\": 291.16,\n        \"max\": 398.75,\n        \"num_unique_values\": 5,\n        \"samples\": [\n          398.75,\n          375.18,\n          291.16\n        ],\n        \"semantic_type\": \"\",\n        \"description\": \"\"\n      }\n    },\n    {\n      \"column\": \"STRIKE\",\n      \"properties\": {\n        \"dtype\": \"number\",\n        \"std\": 41.62331077653482,\n        \"min\": 325.0,\n        \"max\": 430.0,\n        \"num_unique_values\": 5,\n        \"samples\": [\n          430.0,\n          390.0,\n          340.0\n        ],\n        \"semantic_type\": \"\",\n        \"description\": \"\"\n      }\n    },\n    {\n      \"column\": \"Profit\",\n      \"properties\": {\n        \"dtype\": \"number\",\n        \"std\": 1.528276807387978,\n        \"min\": 19.350000000000012,\n        \"max\": 23.179999999999993,\n        \"num_unique_values\": 5,\n        \"samples\": [\n          21.869999999999983,\n          19.350000000000012,\n          20.389999999999965\n        ],\n        \"semantic_type\": \"\",\n        \"description\": \"\"\n      }\n    },\n    {\n      \"column\": \"Action\",\n      \"properties\": {\n        \"dtype\": \"category\",\n        \"num_unique_values\": 1,\n        \"samples\": [\n          \"Buy Put\"\n        ],\n        \"semantic_type\": \"\",\n        \"description\": \"\"\n      }\n    }\n  ]\n}"
            }
          },
          "metadata": {},
          "execution_count": 11
        }
      ]
    },
    {
      "cell_type": "markdown",
      "source": [
        "### As we can see, these are to top 5 days in terms of profit.\n",
        "### The full description of what we should do to make our profit is in the WORD file.  "
      ],
      "metadata": {
        "id": "KovzSgx0J-E6"
      }
    },
    {
      "cell_type": "code",
      "source": [
        "max_profit_df.Profit.sum() * 100"
      ],
      "metadata": {
        "id": "xx2jRO5UyHqS",
        "colab": {
          "base_uri": "https://localhost:8080/"
        },
        "outputId": "2e61caae-84be-4817-d4a5-208dee133668"
      },
      "execution_count": null,
      "outputs": [
        {
          "output_type": "execute_result",
          "data": {
            "text/plain": [
              "226194.99999999997"
            ]
          },
          "metadata": {},
          "execution_count": 10
        }
      ]
    },
    {
      "cell_type": "markdown",
      "source": [
        "### The over-all profit we suppose to do in terms of 100 units-deals"
      ],
      "metadata": {
        "id": "kuvXxBjNLX1U"
      }
    }
  ]
}