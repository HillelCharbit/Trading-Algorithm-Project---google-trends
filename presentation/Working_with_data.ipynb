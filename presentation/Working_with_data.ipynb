{
 "cells": [
  {
   "cell_type": "markdown",
   "metadata": {},
   "source": [
    "# Data Retrieval\n",
    "## Understanding JSON Format\n",
    "\n",
    "JSON (JavaScript Object Notation) is a lightweight data interchange format that is easy for humans to read and write. It is also easy for machines to parse and generate. JSON is widely used for representing structured data and exchanging information between a server and a web application, as well as between different programming languages.\n",
    "\n",
    "### JSON Syntax\n",
    "\n",
    "JSON data is represented as key-value pairs, similar to Python dictionaries. The basic syntax includes objects, arrays, strings, numbers, booleans, and null.\n",
    "\n",
    "#### Objects\n",
    "\n",
    "An object is an unordered collection of key-value pairs, enclosed in curly braces `{}`.\n",
    "\n",
    "\n",
    "``` json\n",
    "{\n",
    "  \"name\": \"John Doe\",\n",
    "  \"age\": 30,\n",
    "  \"city\": \"New York\"\n",
    "}\n",
    "```\n",
    "\n",
    "#### Arrays\n",
    "\n",
    "An array is an ordered list of values, enclosed in square brackets `[]`.\n",
    "\n",
    "\n",
    "``` json\n",
    "{\n",
    "  \"fruits\": [\"apple\", \"banana\", \"orange\"]\n",
    "}\n",
    "```\n",
    "\n",
    "#### Strings, Numbers, Booleans, and Null\n",
    "\n",
    "\n",
    "``` json\n",
    "{\n",
    "  \"name\": \"Alice\",\n",
    "  \"age\": 25,\n",
    "  \"isStudent\": true,\n",
    "  \"score\": null\n",
    "}\n"
   ]
  },
  {
   "cell_type": "markdown",
   "metadata": {},
   "source": [
    "## HTTP Requests and Methods\n",
    "\n",
    "HTTP (Hypertext Transfer Protocol) is the protocol used for communication on the World Wide Web. It defines a set of rules for how messages are formatted and transmitted, and it involves requests and responses between clients (such as web browsers) and servers.\n",
    "\n",
    "### HTTP Methods\n",
    "\n",
    "HTTP supports various methods, also known as verbs, that define the action to be performed on a resource. The common HTTP methods include:\n",
    "\n",
    "#### 1. GET\n",
    "\n",
    "The GET method is primarily used for retrieving data from a specified resource. It is like asking the server to \"get\" or \"give\" you information. When you enter a URL in your browser or click on a link, the browser sends a GET request to the server, asking for the content of that page or resource.\n",
    "\n",
    "#### 2. POST\n",
    "\n",
    "The POST method is used to submit data to be processed to a specified resource. It is often used for actions that create new resources on the server, such as submitting a form or uploading a file.\n",
    "\n",
    "#### 3. PUT\n",
    "\n",
    "The PUT method is used to update a resource or create a new resource if it does not exist. It typically requires sending the entire representation of the resource in the request body.\n",
    "\n",
    "#### 4. DELETE\n",
    "\n",
    "The DELETE method is used to request the removal of a resource. It is used to delete the resource identified by the URI.\n",
    "\n",
    "#### 5. PATCH\n",
    "\n",
    "The PATCH method is used to apply partial modifications to a resource, updating only specific fields without affecting others.\n"
   ]
  },
  {
   "cell_type": "markdown",
   "metadata": {},
   "source": [
    "## API Calls and Interactions in Finance\n",
    "\n",
    "API (Application Programming Interface) allows different software applications to communicate with each other. API calls are requests made by one software component to another, often to retrieve or manipulate financial data. In the context of financial systems, APIs play a crucial role in accessing stock market information, financial analytics, and other relevant data.\n",
    "\n",
    "### Making API Calls for Finance Data\n",
    "\n",
    "When making API calls for finance data, the client sends a request to a specific endpoint on the financial server, specifying the desired financial operation and any necessary parameters. The structure of an API call typically includes the following components:\n",
    "\n",
    "#### 1. Endpoint\n",
    "\n",
    "The endpoint is the specific URL or URI that represents the target resource or operation on the server. In finance APIs, endpoints may represent actions like retrieving stock quotes, updating portfolios, or executing trades. Here are examples of endpoints:\n",
    "\n",
    "- **Retrieve Stock Quotes**:\n",
    "    ```http\n",
    "    GET /api/stock/quotes?symbol=<symbol>\n",
    "    ```\n",
    "\n",
    "- **Update Portfolio**:\n",
    "    ```http\n",
    "    POST /api/portfolio/update\n",
    "    ```\n",
    "\n",
    "- **Execute Trade**:\n",
    "    ```http\n",
    "    PUT /api/trade/execute?symbol=<symbol>&quantity=<quantity>&action=<action>\n",
    "    ```\n",
    "\n",
    "- **Cancel Order**:\n",
    "    ```http\n",
    "    DELETE /api/order?order_id=<order_id>\n",
    "    ```\n",
    "\n",
    "5. **GET Request for Order data**:\n",
    "    ```http\n",
    "    GET /api/order?order_id=<order_id>\n",
    "    ```\n",
    "\n",
    "#### 2. HTTP Method\n",
    "\n",
    "The HTTP method defines the type of operation the client wants to perform on the server. Common HTTP methods include:\n",
    "\n",
    "- **GET**: Retrieve data\n",
    "- **POST**: Submit data for processing\n",
    "- **PUT**: Update a resource or create a new one\n",
    "- **DELETE**: Remove a resource\n",
    "- **PATCH**: Apply partial modifications to a resource\n",
    "\n",
    "#### 3. Parameters\n",
    "\n",
    "Parameters are key-value pairs included in the API call to provide additional information or context. In finance APIs, parameters might include:\n",
    "\n",
    "- **Symbol**: The stock symbol for retrieving specific stock information.\n",
    "- **Quantity**: The number of shares to be traded.\n",
    "- **Action**: The type of trade action, such as \"buy\" or \"sell.\"\n",
    "- **Order ID**: The unique identifier of a trade order for cancellation.\n",
    "\n",
    "#### Examples of API Calls for Finance Data\n",
    "\n",
    "1. **GET Request for Stock Prices**:\n",
    "    ```http\n",
    "    GET /api/stock/quotes?symbol=AAPL\n",
    "    ```\n",
    "\n",
    "2. **POST Request for Portfolio Updates**:\n",
    "    ```http\n",
    "    POST /api/portfolio/update\n",
    "    ```\n",
    "\n",
    "3. **PUT Request for Trade Execution**:\n",
    "    ```http\n",
    "    PUT /api/trade/execute?symbol=GOOGL&quantity=10&action=buy\n",
    "    ```\n",
    "\n",
    "4. **DELETE Request for Order Cancellation**:\n",
    "    ```http\n",
    "    DELETE /api/order?order_id=12345\n",
    "    ```\n",
    "\n",
    "5. **GET Request for Order data**:\n",
    "    ```http\n",
    "    GET /api/order?order_id=12345\n",
    "    ```\n",
    "\n",
    "### Response codes\n",
    "HTTP response codes are used to indicate success, failure, and other properties about the result of an HTTP request. Regardless of the contents of an HTTP response message body, a client will act according to the response status code.\n",
    "\n",
    "- 1xx: Informational\n",
    "- 2xx: Success\n",
    "- 3xx: Redirection\n",
    "- 4xx: Client error\n",
    "- 5xx: Server error\n",
    "\n",
    "https://http.dev/status\n",
    "### Authentication in Finance APIs\n",
    "\n",
    "Financial APIs often require authentication to ensure secure access to sensitive information. Common authentication methods include API keys, OAuth tokens, or other secure credentials.\n",
    "\n",
    "### Handling API Responses in Finance\n",
    "\n",
    "API responses in finance typically include a status code indicating the success or failure of the request. The response body may contain financial data, such as stock prices, portfolio details, or analytics, often formatted in JSON or another standardized format.\n",
    "\n",
    "When working with finance APIs, it's essential to refer to the API documentation for specific details on available endpoints, required parameters, and expected response formats.\n",
    "\n",
    "#### Making API calls"
   ]
  },
  {
   "cell_type": "code",
   "execution_count": null,
   "metadata": {},
   "outputs": [],
   "source": [
    "import requests\n",
    "\n",
    "def make_api_call(base_url, endpoint=\"\", method=\"GET\", **kwargs):\n",
    "    # Construct the full URL\n",
    "    full_url = f'{base_url}{endpoint}'\n",
    "\n",
    "    # Make the API call\n",
    "    response = requests.request(method=method, url=full_url, **kwargs)\n",
    "    \n",
    "    # Check if the request was successful (status code 200)\n",
    "    if response.status_code == 200:\n",
    "        return response\n",
    "    else:\n",
    "        # If the request was not successful, raise an exception with the error message\n",
    "        raise Exception(f'API request failed with status code {response.status_code}: {response.text}')\n"
   ]
  },
  {
   "cell_type": "markdown",
   "metadata": {},
   "source": [
    "## Cryptocurrency\n",
    "### Binance\n",
    "https://binance-docs.github.io/apidocs/futures/en/#change-log"
   ]
  },
  {
   "cell_type": "code",
   "execution_count": null,
   "metadata": {},
   "outputs": [],
   "source": [
    "# first get the base url of the API\n",
    "base_url = 'https://fapi.binance.com'"
   ]
  },
  {
   "cell_type": "markdown",
   "metadata": {},
   "source": [
    "Check Server Time"
   ]
  },
  {
   "cell_type": "code",
   "execution_count": null,
   "metadata": {},
   "outputs": [],
   "source": [
    "# method\n",
    "method = 'GET'\n",
    "\n",
    "# endpoint\n",
    "endpoint = '/fapi/v1/time'\n",
    "\n",
    "# make the call\n",
    "response = make_api_call(base_url, endpoint, method).json()\n",
    "response"
   ]
  },
  {
   "cell_type": "markdown",
   "metadata": {},
   "source": [
    "#### What is epoch time or Unix Timestamp?\n",
    "A timestamp is a representation of a specific point in time, typically expressed as the number of seconds, milliseconds, or microseconds that have elapsed since a predefined reference point known as the \"epoch.\n",
    "\n",
    "The Unix epoch (or Unix time or POSIX time or Unix timestamp) is the number of seconds that have elapsed since January 1, 1970\n",
    "\n",
    "Key Characteristics:\n",
    "- Universal Reference: Timestamps provide a standardized way of expressing time across different systems and locations. The reference point (epoch) is often set to a significant historical or technological event.\n",
    "\n",
    "- Granularity: Timestamps can have varying levels of granularity, ranging from seconds to milliseconds or even microseconds, depending on the precision required for a specific application.\n",
    "\n",
    "- Precision and Accuracy: The precision of a timestamp determines how finely it can represent time intervals, while accuracy reflects how closely the timestamp aligns with the actual time it represents.\n",
    "\n",
    "Common Usage:\n",
    "- Data Logging: Timestamps are widely used in data logging to record when events occur, helping analyze patterns, durations, and chronological sequences.\n",
    "\n",
    "- Synchronization: Timestamps are essential for synchronizing activities across distributed systems, ensuring that events are coordinated based on a common temporal reference.\n",
    "\n",
    "https://www.epochconverter.com/"
   ]
  },
  {
   "cell_type": "code",
   "execution_count": null,
   "metadata": {},
   "outputs": [],
   "source": [
    "import datetime\n",
    "import pytz\n",
    "\n",
    "# extract server timestamp\n",
    "server_time = response['serverTime']\n",
    "\n",
    "# convert timestamp to regular date\n",
    "date = datetime.datetime.utcfromtimestamp(int(server_time) / 1000.0)\n",
    "date_string = date.strftime(\"%Y-%m-%d %H:%M:%S %Z\")\n",
    "print(f'server_time as timestamp: {int(server_time) / 1000.0}, date: {date_string}')\n",
    "\n",
    "# convert timestamp to Asia/Jerusalem\n",
    "utc_date = datetime.datetime.utcfromtimestamp(int(server_time) / 1000.0)\n",
    "jer_tz= pytz.timezone('Asia/Jerusalem')\n",
    "date_in_jer= utc_date.replace(tzinfo=pytz.utc).astimezone(jer_tz)\n",
    "date_string_jer = date_in_jer.strftime(\"%Y-%m-%d %H:%M:%S %Z\")\n",
    "print(f'server_time as timestamp: {int(server_time) / 1000.0}, date in Asia/Jerusalem: {date_string_jer}')\n",
    "\n",
    "# move one week earlier\n",
    "week_before = date - datetime.timedelta(weeks=1)\n",
    "week_before_date_string = week_before.strftime(\"%Y-%m-%d %H:%M:%S UTC\")\n",
    "print(f'One week before as timestamp {week_before.timestamp()}, date: {week_before_date_string}')"
   ]
  },
  {
   "cell_type": "markdown",
   "metadata": {},
   "source": [
    "Get historical data\n",
    "\n",
    "https://binance-docs.github.io/apidocs/futures/en/#kline-candlestick-data\n"
   ]
  },
  {
   "cell_type": "code",
   "execution_count": null,
   "metadata": {},
   "outputs": [],
   "source": [
    "# specific endpoint and method\n",
    "method = 'GET'\n",
    "endpoint = '/fapi/v1/klines'\n",
    "\n",
    "# parameters\n",
    "params = {\n",
    "    'symbol': 'BTCUSDT',# Mandatory\n",
    "    'interval': '1h',# Mandatory\n",
    "    # 'startTime': ,\n",
    "    # 'endTime': ,\n",
    "    'limit': 5 # default 500\n",
    "}\n",
    "\n",
    "# make call\n",
    "response = make_api_call(base_url, endpoint, method, params=params)\n",
    "response.json()"
   ]
  },
  {
   "cell_type": "markdown",
   "metadata": {},
   "source": [
    "Wrapping the response as a pandas df"
   ]
  },
  {
   "cell_type": "code",
   "execution_count": null,
   "metadata": {},
   "outputs": [],
   "source": [
    "import pandas as pd\n",
    "\n",
    "# Define the columns\n",
    "columns = ['open_time', 'open', 'high', 'low', 'close', 'volume', 'close_time', 'quote_asset_volume',\n",
    "               'number_of_trades', 'taker_buy_base_asset_volume', 'taker_buy_quote_asset_volume', 'ignore']\n",
    "\n",
    "# Define each column dtype to prevent auto inference\n",
    "dtype={\n",
    "    'open_time': 'datetime64[ms, Asia/Jerusalem]',\n",
    "    'open': 'float64',\n",
    "    'high': 'float64',\n",
    "    'low': 'float64',\n",
    "    'close': 'float64',\n",
    "    'volume': 'float64',\n",
    "    'close_time': 'datetime64[ms, Asia/Jerusalem]',\n",
    "    'quote_asset_volume': 'float64',\n",
    "    'number_of_trades': 'int64',\n",
    "    'taker_buy_base_asset_volume': 'float64',\n",
    "    'taker_buy_quote_asset_volume': 'float64',\n",
    "    'ignore': 'float64'\n",
    "}\n",
    "\n",
    "btcusdt_df = pd.DataFrame(response.json(), columns=columns)\n",
    "btcusdt_df = btcusdt_df.astype(dtype)\n",
    "btcusdt_df"
   ]
  },
  {
   "cell_type": "markdown",
   "metadata": {},
   "source": [
    "Aggregate calls to overcome limitations"
   ]
  },
  {
   "cell_type": "code",
   "execution_count": null,
   "metadata": {},
   "outputs": [],
   "source": [
    "def get_binance_historical_data(symbol, interval, start_date):\n",
    "    \n",
    "    # define basic parameters for call\n",
    "    base_url = 'https://fapi.binance.com'\n",
    "    endpoint = '/fapi/v1/klines'\n",
    "    method = 'GET'\n",
    "    \n",
    "    # Set the start time parameter in the params dictionary\n",
    "    params = {\n",
    "        'symbol': symbol,\n",
    "        'interval': interval,\n",
    "        'limit': 1500,\n",
    "        'startTime': start_date # Start time in milliseconds\n",
    "    }\n",
    "\n",
    "\n",
    "    # Make initial API call to get candles\n",
    "    response = make_api_call(base_url, endpoint=endpoint, method=method, params=params)\n",
    "\n",
    "    candles_data = []\n",
    "\n",
    "    while len(response.json()) > 0:\n",
    "        # Append the received candles to the list\n",
    "        candles_data.extend(response.json())\n",
    "\n",
    "        # Update the start time for the next API call\n",
    "        params['startTime'] = candles_data[-1][0] + 1 # last candle open_time + 1ms\n",
    "\n",
    "        # Make the next API call\n",
    "        response = make_api_call(base_url, endpoint=endpoint, method=method, params=params)\n",
    "\n",
    "    \n",
    "    # Wrap the candles data as a pandas DataFrame\n",
    "    columns = ['open_time', 'open', 'high', 'low', 'close', 'volume', 'close_time', 'quote_asset_volume',\n",
    "               'number_of_trades', 'taker_buy_base_asset_volume', 'taker_buy_quote_asset_volume', 'ignore']\n",
    "    dtype={\n",
    "    'open_time': 'datetime64[ms, Asia/Jerusalem]',\n",
    "    'open': 'float64',\n",
    "    'high': 'float64',\n",
    "    'low': 'float64',\n",
    "    'close': 'float64',\n",
    "    'volume': 'float64',\n",
    "    'close_time': 'datetime64[ms, Asia/Jerusalem]',\n",
    "    'quote_asset_volume': 'float64',\n",
    "    'number_of_trades': 'int64',\n",
    "    'taker_buy_base_asset_volume': 'float64',\n",
    "    'taker_buy_quote_asset_volume': 'float64',\n",
    "    'ignore': 'float64'\n",
    "    }\n",
    "    \n",
    "    df = pd.DataFrame(candles_data, columns=columns)\n",
    "    df = df.astype(dtype)\n",
    "\n",
    "    return df"
   ]
  },
  {
   "cell_type": "markdown",
   "metadata": {},
   "source": [
    "Example usage"
   ]
  },
  {
   "cell_type": "code",
   "execution_count": null,
   "metadata": {},
   "outputs": [],
   "source": [
    "from datetime import datetime\n",
    "\n",
    "# Example usage:\n",
    "symbol = 'BTCUSDT'\n",
    "interval = '1h'\n",
    "start_date = int(datetime(year=2024, month=1, day=1).timestamp() * 1000)\n",
    "\n",
    "btcusdt_df = get_binance_historical_data(symbol, interval, start_date)\n",
    "btcusdt_df"
   ]
  },
  {
   "cell_type": "markdown",
   "metadata": {},
   "source": [
    "## Stocks\n",
    "### yfinance\n",
    "yfinance is a Python library that provides a convenient interface to interact with financial data from Yahoo Finance. Yahoo Finance is a popular financial news and data platform that offers a wide range of financial information, including stock quotes, historical prices, financial statements, and more.\n",
    "\n",
    "https://github.com/ranaroussi/yfinance\n",
    "\n",
    "Get historical data"
   ]
  },
  {
   "cell_type": "code",
   "execution_count": null,
   "metadata": {},
   "outputs": [],
   "source": [
    "# https://github.com/ranaroussi/yfinance/wiki/Ticker\n",
    "import yfinance as yf\n",
    "\n",
    "aapl_ticker = yf.Ticker('AAPL')\n",
    "aapl_df = aapl_ticker.history(interval='1h', repair=True, period='3mo')\n",
    "aapl_df"
   ]
  },
  {
   "cell_type": "markdown",
   "metadata": {},
   "source": [
    "## What to do when we can't find an api documentation?"
   ]
  },
  {
   "cell_type": "markdown",
   "metadata": {},
   "source": [
    "### Postman - API platform for developers\n",
    "\n",
    "https://www.postman.com/\n",
    "\n",
    "<div align=\"center\">\n",
    "  <blockquote style=\"border-left: 2px solid #6b7c93; padding: 10px; background-color: #2d2d2d; color: #ffffff; margin: 0; font-style: italic;\">\n",
    "    “I choose a lazy person to do a hard job. Because a lazy person will find an easy way to do it.”\n",
    "    ― Bill Gates\n",
    "  </blockquote>\n",
    "</div>\n"
   ]
  },
  {
   "cell_type": "markdown",
   "metadata": {},
   "source": [
    "### TASE - Tel Aviv Stock Exchange\n",
    "\n",
    "https://market.tase.co.il/en/market_data\n",
    "\n",
    "Get TA-35 historical data"
   ]
  },
  {
   "cell_type": "code",
   "execution_count": null,
   "metadata": {},
   "outputs": [],
   "source": [
    "import requests\n",
    "\n",
    "url = \"https://api.tase.co.il/api/index/historyeod\"\n",
    "\n",
    "payload = '{\"pType\":\"8\",\"dFrom\":\"2023-01-01\",\"dTo\":\"2024-01-18\",\"TotalRec\":1,\"pageNum\":1,\"oId\":\"142\",\"lang\":\"1\"}'\n",
    "headers = {\n",
    "  'authority': 'api.tase.co.il',\n",
    "  'accept': 'application/json, text/plain, */*',\n",
    "  'accept-language': 'en-US',\n",
    "  'content-type': 'application/json;charset=UTF-8',\n",
    "  'origin': 'https://market.tase.co.il',\n",
    "  'referer': 'https://market.tase.co.il/',\n",
    "  'sec-ch-ua': '\"Not_A Brand\";v=\"8\", \"Chromium\";v=\"120\", \"Google Chrome\";v=\"120\"',\n",
    "  'sec-ch-ua-mobile': '?0',\n",
    "  'sec-ch-ua-platform': '\"Windows\"',\n",
    "  'sec-fetch-dest': 'empty',\n",
    "  'sec-fetch-mode': 'cors',\n",
    "  'sec-fetch-site': 'same-site',\n",
    "  'user-agent': 'Mozilla/5.0 (Windows NT 10.0; Win64; x64) AppleWebKit/537.36 (KHTML, like Gecko) Chrome/120.0.0.0 Safari/537.36',\n",
    "  'Cookie': 'TS017a52ce=01fbbcea6c105e8383a5ca4c6b5cc98869d80a835a1484f29da700b7f4ca4d4602d4d6afd905760df07ef328d91891f36f0adff69ef9e2e81ee0d9c54363cf17b29df08510; dtCookie=v_4_srv_1_sn_5CE258388430EED645B50B927FCF4E0C_perc_100000_ol_0_mul_1_app-3Aea7c4b59f27d43eb_1; incap_ses_1463_1706181=ziFxKtS0B0t6v0xLfJ9NFCfyqGUAAAAAisQwEZnymJ9MO/G6mU1gQA==; nlbi_1706181=jv1IPgAvF3Ilc39KTu8iRwAAAACoqtdeygqayNOAGbHFMP2f; TS0187b1a4=01fbbcea6c04c591c4845879f0a9e0da1fedff3be930b6aafb56e40eafdb5c3d5567a58e51603d48c44b80fb2cdf433cd49d83297d'\n",
    "}\n",
    "\n",
    "response = requests.request(\"POST\", url, headers=headers, data=payload)\n",
    "\n",
    "print(response.text)\n"
   ]
  },
  {
   "cell_type": "markdown",
   "metadata": {},
   "source": [
    "Get as json"
   ]
  },
  {
   "cell_type": "code",
   "execution_count": null,
   "metadata": {},
   "outputs": [],
   "source": [
    "response.json()"
   ]
  },
  {
   "cell_type": "markdown",
   "metadata": {},
   "source": [
    "Understand data structure and extract relevant data"
   ]
  },
  {
   "cell_type": "code",
   "execution_count": null,
   "metadata": {},
   "outputs": [],
   "source": [
    "historical_data = response.json()['Items']\n",
    "historical_data"
   ]
  },
  {
   "cell_type": "markdown",
   "metadata": {},
   "source": [
    "Wrap the data as a pandas df"
   ]
  },
  {
   "cell_type": "code",
   "execution_count": null,
   "metadata": {},
   "outputs": [],
   "source": [
    "columns = ['TradeDate', 'OpenRate', 'CloseRate', 'HighRate', 'LowRate', 'MarketValue']\n",
    "dtype={\n",
    "'TradeDate': 'datetime64[ms]',\n",
    "'OpenRate': 'float64',\n",
    "'CloseRate': 'float64',\n",
    "'HighRate': 'float64',\n",
    "'LowRate': 'float64',\n",
    "'MarketValue': 'float64',\n",
    "}\n",
    "\n",
    "df = pd.DataFrame(historical_data, columns=columns)\n",
    "df = df.astype(dtype)\n",
    "df"
   ]
  },
  {
   "cell_type": "markdown",
   "metadata": {},
   "source": [
    "Wrap as a function"
   ]
  },
  {
   "cell_type": "code",
   "execution_count": null,
   "metadata": {},
   "outputs": [],
   "source": [
    "def get_tase_historical_idx_data(from_date: str, to_date: str, oId: str = '142') -> pd.DataFrame:\n",
    "    \"\"\"\n",
    "    Retrieves historical index data from the Tel Aviv Stock Exchange (TASE) API.\n",
    "\n",
    "    Parameters:\n",
    "    - from_date (str): Start date in the format 'yyyy-mm-dd'.\n",
    "    - to_date (str): End date in the format 'yyyy-mm-dd'.\n",
    "    - oId (str): required idx id. default 142 (TA-35)\n",
    "\n",
    "    Returns:\n",
    "    dict: A dictionary containing the API response.\n",
    "    \"\"\"\n",
    "    \n",
    "    # define basic parameters for call\n",
    "    url = \"https://api.tase.co.il/api/index/historyeod\"\n",
    "    method = 'POST'\n",
    "    headers = {\n",
    "        'authority': 'api.tase.co.il',\n",
    "        'accept': 'application/json, text/plain, */*',\n",
    "        'accept-language': 'en-US',\n",
    "        'content-type': 'application/json;charset=UTF-8',\n",
    "        'origin': 'https://market.tase.co.il',\n",
    "        'referer': 'https://market.tase.co.il/',\n",
    "        'sec-ch-ua': '\"Not_A Brand\";v=\"8\", \"Chromium\";v=\"120\", \"Google Chrome\";v=\"120\"',\n",
    "        'sec-ch-ua-mobile': '?0',\n",
    "        'sec-ch-ua-platform': '\"Windows\"',\n",
    "        'sec-fetch-dest': 'empty',\n",
    "        'sec-fetch-mode': 'cors',\n",
    "        'sec-fetch-site': 'same-site',\n",
    "        'user-agent': 'Mozilla/5.0 (Windows NT 10.0; Win64; x64) AppleWebKit/537.36 (KHTML, like Gecko) Chrome/120.0.0.0 Safari/537.36',\n",
    "    }\n",
    "    \n",
    "    # Set the first page payload\n",
    "    page_num = 1\n",
    "    payload = f'{{\"pType\":\"8\",\"dFrom\":\"{from_date}\",\"dTo\":\"{to_date}\",\"TotalRec\":1,\"pageNum\":{page_num},\"oId\":\"142\",\"lang\":\"1\"}}'\n",
    "\n",
    "    # Make initial API call to get candles\n",
    "    response = make_api_call(base_url=url, method=method, headers=headers, data=payload)\n",
    "    items = response.json()['Items']\n",
    "    candles_data = []\n",
    "\n",
    "    while len(items) > 0:\n",
    "        # Append the received candles to the list\n",
    "        candles_data.extend(items)\n",
    "\n",
    "        # Update the start time for the next API call\n",
    "        page_num += 1\n",
    "        payload = f'{{\"pType\":\"8\",\"dFrom\":\"{from_date}\",\"dTo\":\"{to_date}\",\"TotalRec\":1,\"pageNum\":{page_num},\"oId\":\"{oId}\",\"lang\":\"1\"}}'\n",
    "\n",
    "        # Make the next API call\n",
    "        response = make_api_call(base_url=url, method=method, headers=headers, data=payload)\n",
    "        \n",
    "        items = response.json()['Items']\n",
    "\n",
    "    \n",
    "    # Convert the candles data list to a pandas DataFrame\n",
    "    columns = ['TradeDate', 'OpenRate', 'CloseRate', 'HighRate', 'LowRate', 'MarketValue']\n",
    "    dtype={\n",
    "    'TradeDate': 'datetime64[ns]',\n",
    "    'OpenRate': 'float64',\n",
    "    'CloseRate': 'float64',\n",
    "    'HighRate': 'float64',\n",
    "    'LowRate': 'float64',\n",
    "    'MarketValue': 'float64',\n",
    "    }\n",
    "    \n",
    "    df = pd.DataFrame(candles_data, columns=columns)\n",
    "    # default format is '%m/%d/%Y' but in Israel its different so we need to specify it.\n",
    "    df['TradeDate'] = pd.to_datetime(df['TradeDate'], format='%d/%m/%Y')\n",
    "    df = df.astype(dtype)\n",
    "\n",
    "    return df\n",
    "\n",
    "ta35_df = get_tase_historical_idx_data('2023-01-01', '2024-01-01')\n",
    "ta35_df"
   ]
  },
  {
   "cell_type": "markdown",
   "metadata": {},
   "source": [
    "Get a specific stock historical data"
   ]
  },
  {
   "cell_type": "code",
   "execution_count": null,
   "metadata": {},
   "outputs": [],
   "source": [
    "def get_tase_historical_stock_data(from_date: str, to_date: str, oId: str) -> pd.DataFrame:\n",
    "    \"\"\"\n",
    "    Retrieves historical stock data from the Tel Aviv Stock Exchange (TASE) API.\n",
    "\n",
    "    Parameters:\n",
    "    - from_date (str): Start date in the format 'yyyy-mm-dd'.\n",
    "    - to_date (str): End date in the format 'yyyy-mm-dd'.\n",
    "    - oId (str): required stock id.\n",
    "\n",
    "    Returns:\n",
    "    dict: A dictionary containing the API response.\n",
    "    \"\"\"\n",
    "    \n",
    "    # define basic parameters for call\n",
    "    url = \"https://api.tase.co.il/api/security/historyeod\"\n",
    "    method = 'POST'\n",
    "    headers = {\n",
    "        'authority': 'api.tase.co.il',\n",
    "        'accept': 'application/json, text/plain, */*',\n",
    "        'accept-language': 'en-US',\n",
    "        'content-type': 'application/json;charset=UTF-8',\n",
    "        'origin': 'https://market.tase.co.il',\n",
    "        'referer': 'https://market.tase.co.il/',\n",
    "        'sec-ch-ua': '\"Not_A Brand\";v=\"8\", \"Chromium\";v=\"120\", \"Google Chrome\";v=\"120\"',\n",
    "        'sec-ch-ua-mobile': '?0',\n",
    "        'sec-ch-ua-platform': '\"Windows\"',\n",
    "        'sec-fetch-dest': 'empty',\n",
    "        'sec-fetch-mode': 'cors',\n",
    "        'sec-fetch-site': 'same-site',\n",
    "        'user-agent': 'Mozilla/5.0 (Windows NT 10.0; Win64; x64) AppleWebKit/537.36 (KHTML, like Gecko) Chrome/120.0.0.0 Safari/537.36',\n",
    "    }\n",
    "    \n",
    "    # Set the first page payload\n",
    "    page_num = 1\n",
    "    payload = f'{{\"pType\":\"8\",\"dFrom\":\"{from_date}\",\"dTo\":\"{to_date}\",\"TotalRec\":1,\"pageNum\":{page_num},\"oId\":\"{oId}\",\"lang\":\"1\"}}'\n",
    "\n",
    "    # Make initial API call to get candles\n",
    "    response = make_api_call(base_url=url, method=method, headers=headers, data=payload)\n",
    "    items = response.json()['Items']\n",
    "    candles_data = []\n",
    "\n",
    "    while len(items) > 0:\n",
    "        # Append the received candles to the list\n",
    "        candles_data.extend(items)\n",
    "\n",
    "        # Update the start time for the next API call\n",
    "        page_num += 1\n",
    "        payload = f'{{\"pType\":\"8\",\"dFrom\":\"{from_date}\",\"dTo\":\"{to_date}\",\"TotalRec\":1,\"pageNum\":{page_num},\"oId\":\"{oId}\",\"lang\":\"1\"}}'\n",
    "\n",
    "        # Make the next API call\n",
    "        response = make_api_call(base_url=url, method=method, headers=headers, data=payload)\n",
    "        \n",
    "        items = response.json()['Items']\n",
    "\n",
    "    \n",
    "    # Convert the candles data list to a pandas DataFrame\n",
    "    columns = ['TradeDate', 'OpenRate', 'CloseRate', 'HighRate', 'LowRate', 'MarketValue', 'TurnOverValueShekel', 'OverallTurnOverUnits', 'DealsNo']\n",
    "    dtype={\n",
    "    'TradeDate': 'datetime64[ns]',\n",
    "    'OpenRate': 'float64',\n",
    "    'CloseRate': 'float64',\n",
    "    'HighRate': 'float64',\n",
    "    'LowRate': 'float64',\n",
    "    'MarketValue': 'float64',\n",
    "    'TurnOverValueShekel': 'float64',\n",
    "    'OverallTurnOverUnits': 'float64',\n",
    "    'DealsNo': 'int64',\n",
    "    }\n",
    "    \n",
    "    candles_data = [{k: v for k,v in candle.items() if k in columns} for candle in candles_data]\n",
    "    \n",
    "    df = pd.DataFrame(candles_data, columns=columns)\n",
    "    # default format is '%m/%d/%Y' but in Israel its different so we need to specify it.\n",
    "    df['TradeDate'] = pd.to_datetime(df['TradeDate'], format='%d/%m/%Y')\n",
    "    df = df.astype(dtype)\n",
    "\n",
    "    return df\n",
    "\n",
    "poli_oId = '00662577'\n",
    "poli_df = get_tase_historical_stock_data('2023-01-01', '2024-01-01', oId=poli_oId)\n",
    "poli_df"
   ]
  },
  {
   "cell_type": "markdown",
   "metadata": {},
   "source": [
    "## Options\n",
    "\n",
    "https://www.optionsdx.com/product-category/option-chains/\n",
    "\n",
    "Get historical data"
   ]
  },
  {
   "cell_type": "code",
   "execution_count": null,
   "metadata": {},
   "outputs": [],
   "source": [
    "qqq_q1_options_df = pd.read_csv('options_data/QQQ/qqq_eod_202301.csv')\n",
    "qqq_q1_options_df.dtypes"
   ]
  },
  {
   "cell_type": "markdown",
   "metadata": {},
   "source": [
    "Rename the column names"
   ]
  },
  {
   "cell_type": "code",
   "execution_count": null,
   "metadata": {},
   "outputs": [],
   "source": [
    "# fix column names by removing [, ], \" \" characters\n",
    "qqq_q1_options_df.columns = qqq_q1_options_df.columns.str.strip('[] ')\n",
    "\n",
    "# cast date columns to datetime\n",
    "qqq_q1_options_df['EXPIRE_DATE'] = pd.to_datetime(qqq_q1_options_df['EXPIRE_DATE'])\n",
    "qqq_q1_options_df['QUOTE_DATE'] = pd.to_datetime(qqq_q1_options_df['QUOTE_DATE'])\n",
    "qqq_q1_options_df['QUOTE_READTIME'] = pd.to_datetime(qqq_q1_options_df['QUOTE_READTIME'])\n",
    "qqq_q1_options_df.dtypes"
   ]
  },
  {
   "cell_type": "markdown",
   "metadata": {},
   "source": [
    "Have a look at the data"
   ]
  },
  {
   "cell_type": "code",
   "execution_count": null,
   "metadata": {},
   "outputs": [],
   "source": [
    "qqq_q1_options_df[['QUOTE_DATE', 'EXPIRE_DATE','STRIKE']].sample(10)"
   ]
  },
  {
   "cell_type": "code",
   "execution_count": null,
   "metadata": {},
   "outputs": [],
   "source": [
    "# group by strike and expiration date\n",
    "qqq_q1_options_df.groupby(['EXPIRE_DATE','STRIKE'])['C_LAST'].describe()"
   ]
  },
  {
   "cell_type": "markdown",
   "metadata": {},
   "source": [
    "Aggregate over multiple files"
   ]
  },
  {
   "cell_type": "code",
   "execution_count": null,
   "metadata": {},
   "outputs": [],
   "source": [
    "import os\n",
    "\n",
    "folder_path = 'options_data\\QQQ'\n",
    "\n",
    "options_dfs = []\n",
    "\n",
    "for filename in os.listdir(folder_path):\n",
    "    if ('2022' not in filename) and ('2023' not in filename):\n",
    "        continue\n",
    "    file_path = os.path.join(folder_path, filename)\n",
    "     \n",
    "    options_df = pd.read_csv(file_path, low_memory=False)\n",
    "    \n",
    "    options_dfs.append(options_df)\n",
    "\n",
    "options_df = pd.concat(options_dfs, ignore_index=True)  \n",
    "  \n",
    "# fix column names by removing [, ], \" \" characters\n",
    "options_df.columns = options_df.columns.str.strip('[] ')\n",
    "\n",
    "# Define data types for all columns\n",
    "for col in options_df.columns:\n",
    "    if col.startswith('C_') or col.startswith('P_'):\n",
    "        options_df[col] = pd.to_numeric(options_df[col], errors='coerce')\n",
    "\n",
    "dtypes = {\n",
    "    'QUOTE_UNIXTIME': 'int64',\n",
    "    'QUOTE_READTIME': 'datetime64[ns]',\n",
    "    'QUOTE_DATE': 'datetime64[ns]',\n",
    "    'QUOTE_TIME_HOURS': 'float64',\n",
    "    'UNDERLYING_LAST': 'float64',\n",
    "    'EXPIRE_DATE': 'datetime64[ns]',\n",
    "    'EXPIRE_UNIX': 'int64',\n",
    "    'DTE': 'float64',\n",
    "    'C_DELTA': 'float64',\n",
    "    'C_GAMMA': 'float64',\n",
    "    'C_VEGA': 'float64',\n",
    "    'C_THETA': 'float64',\n",
    "    'C_RHO': 'float64',\n",
    "    'C_IV': 'float64',\n",
    "    'C_VOLUME': 'float64',\n",
    "    'C_LAST': 'float64',\n",
    "    'C_SIZE': 'float64',\n",
    "    'C_BID': 'float64',\n",
    "    'C_ASK': 'float64',\n",
    "    'STRIKE': 'float64',\n",
    "    'P_BID': 'float64',\n",
    "    'P_ASK': 'float64',\n",
    "    'P_SIZE': 'float64',\n",
    "    'P_LAST': 'float64',\n",
    "    'P_DELTA': 'float64',\n",
    "    'P_VOLUME': 'float64',\n",
    "    'STRIKE_DISTANCE': 'float64',\n",
    "    'STRIKE_DISTANCE_PCT': 'float64'\n",
    "}\n",
    "\n",
    "# Convert columns to the specified data types\n",
    "options_df = options_df.astype(dtypes)\n",
    "\n",
    "options_df.sample(10)"
   ]
  },
  {
   "cell_type": "code",
   "execution_count": null,
   "metadata": {},
   "outputs": [],
   "source": [
    "# group by strike and expiration date\n",
    "options_df.groupby(['EXPIRE_DATE','STRIKE']).count().sort_values(by='P_LAST', ascending=False)"
   ]
  },
  {
   "cell_type": "code",
   "execution_count": null,
   "metadata": {},
   "outputs": [],
   "source": [
    "s_385_19012024_df = options_df.groupby(['EXPIRE_DATE','STRIKE']).get_group((pd.Timestamp('2024-01-19 00:00:00'), 385.0))\n",
    "s_385_19012024_df"
   ]
  },
  {
   "cell_type": "code",
   "execution_count": null,
   "metadata": {},
   "outputs": [],
   "source": [
    "s_385_19012024_df['P_LAST'].describe()"
   ]
  },
  {
   "cell_type": "markdown",
   "metadata": {},
   "source": [
    "Set index to be quote date"
   ]
  },
  {
   "cell_type": "code",
   "execution_count": null,
   "metadata": {},
   "outputs": [],
   "source": [
    "s_385_19012024_df.index = s_385_19012024_df['QUOTE_DATE']\n",
    "s_385_19012024_df['C_LAST'].plot()"
   ]
  },
  {
   "cell_type": "code",
   "execution_count": null,
   "metadata": {},
   "outputs": [],
   "source": [
    "s_385_19012024_df['P_LAST'].plot()"
   ]
  },
  {
   "cell_type": "code",
   "execution_count": null,
   "metadata": {},
   "outputs": [],
   "source": [
    "s_385_19012024_df[(s_385_19012024_df['QUOTE_DATE'] > pd.Timestamp('2022-06-01 00:00:00')) & (s_385_19012024_df['QUOTE_DATE'] < pd.Timestamp('2022-07-25 00:00:00'))][['UNDERLYING_LAST', 'UNDERLYING_LAST', 'P_LAST',  'P_ASK',  'P_BID', 'P_VOLUME']]"
   ]
  },
  {
   "cell_type": "markdown",
   "metadata": {},
   "source": [
    "### Basic methods with time series data\n",
    "getting to know the data"
   ]
  },
  {
   "cell_type": "code",
   "execution_count": null,
   "metadata": {},
   "outputs": [],
   "source": [
    "aapl_ticker = yf.Ticker('AAPL')\n",
    "aapl_df = aapl_ticker.history(interval='1h', repair=True, period='3mo')"
   ]
  },
  {
   "cell_type": "code",
   "execution_count": null,
   "metadata": {},
   "outputs": [],
   "source": [
    "aapl_df.head()"
   ]
  },
  {
   "cell_type": "code",
   "execution_count": null,
   "metadata": {},
   "outputs": [],
   "source": [
    "aapl_df.describe()"
   ]
  },
  {
   "cell_type": "code",
   "execution_count": null,
   "metadata": {},
   "outputs": [],
   "source": [
    "aapl_df.index"
   ]
  },
  {
   "cell_type": "markdown",
   "metadata": {},
   "source": [
    "<font size=\"4\">Truncate</font>\n",
    "\n",
    "<font size=\"3\">truncate a Series or DataFrame before and after some index value</font>"
   ]
  },
  {
   "cell_type": "code",
   "execution_count": null,
   "metadata": {},
   "outputs": [],
   "source": [
    "print(\"first candle date:\", aapl_df.index.min())\n",
    "print(\"last candle date:\", aapl_df.index.max())"
   ]
  },
  {
   "cell_type": "code",
   "execution_count": null,
   "metadata": {},
   "outputs": [],
   "source": [
    "new_min_date = pd.Timestamp('2024-01-05 14:30:00', tz='America/New_York')\n",
    "new_max_date = pd.Timestamp('2024-01-22 14:30:00', tz='America/New_York')\n",
    "\n",
    "truncated_df = aapl_df.truncate(before=new_min_date, after=new_max_date)\n",
    "truncated_df"
   ]
  },
  {
   "cell_type": "markdown",
   "metadata": {},
   "source": [
    "<font size=\"4\">Resample</font>\n",
    "\n",
    "<font size=\"3\">resample time-series data</font>"
   ]
  },
  {
   "cell_type": "code",
   "execution_count": null,
   "metadata": {},
   "outputs": [],
   "source": [
    "daily_aapl_df = aapl_df.resample('1D').mean()\n",
    "daily_aapl_df"
   ]
  },
  {
   "cell_type": "markdown",
   "metadata": {},
   "source": [
    "<font size=\"4\">Shift</font>\n",
    "\n",
    "<font size=\"3\">shift index by desired number of periods with an optional time freq.</font>\n"
   ]
  },
  {
   "cell_type": "code",
   "execution_count": null,
   "metadata": {},
   "outputs": [],
   "source": [
    "aapl_df['Volume'].shift()"
   ]
  },
  {
   "cell_type": "markdown",
   "metadata": {},
   "source": [
    "<font size=\"3\">Calculate volume diff using shift.</font>"
   ]
  },
  {
   "cell_type": "code",
   "execution_count": null,
   "metadata": {},
   "outputs": [],
   "source": [
    "aapl_df['hourly_vol_change'] = aapl_df['Volume'] - aapl_df['Volume'].shift()\n",
    "aapl_df"
   ]
  },
  {
   "cell_type": "markdown",
   "metadata": {},
   "source": [
    "<font size=\"4\">Diff</font>\n",
    "\n",
    "<font size=\"3\">calculates the difference of a DataFrame element compared with another element in the DataFrame (default is element in previous row)</font>\n"
   ]
  },
  {
   "cell_type": "code",
   "execution_count": null,
   "metadata": {},
   "outputs": [],
   "source": [
    "aapl_df['hourly_vol_change_with_diff'] = aapl_df['Volume'].diff()\n",
    "aapl_df"
   ]
  },
  {
   "cell_type": "markdown",
   "metadata": {},
   "source": [
    "<font size=\"4\">pct_change</font>\n",
    "\n",
    "<font size=\"3\">Computes the fractional change from the immediately previous row by default. This is useful in comparing the fraction of change in a time series of elements.</font>\n"
   ]
  },
  {
   "cell_type": "code",
   "execution_count": null,
   "metadata": {},
   "outputs": [],
   "source": [
    "aapl_df['hourly_returns'] = aapl_df['Close'].pct_change()\n",
    "aapl_df"
   ]
  },
  {
   "cell_type": "markdown",
   "metadata": {},
   "source": [
    "<font size=\"4\">Expanding</font>\n",
    "\n",
    "<font size=\"3\">Provide expanding window calculations.</font>\n"
   ]
  },
  {
   "cell_type": "code",
   "execution_count": null,
   "metadata": {},
   "outputs": [],
   "source": [
    "aapl_df['cummulative_returns'] = aapl_df['hourly_returns'].expanding().sum()\n",
    "aapl_df"
   ]
  },
  {
   "cell_type": "code",
   "execution_count": null,
   "metadata": {},
   "outputs": [],
   "source": [
    "aapl_df['hourly_returns'].sum()"
   ]
  },
  {
   "cell_type": "markdown",
   "metadata": {},
   "source": [
    "<font size=\"4\">Rolling</font>\n",
    "\n",
    "<font size=\"3\">Provide rolling window calculations.</font>\n"
   ]
  },
  {
   "cell_type": "code",
   "execution_count": null,
   "metadata": {},
   "outputs": [],
   "source": [
    "aapl_df['last_3h_returns_std'] = aapl_df['hourly_returns'].rolling('3h').std()\n",
    "aapl_df['last_3_candles_std'] = aapl_df['hourly_returns'].rolling(3).std()\n",
    "aapl_df.head(20)"
   ]
  }
 ],
 "metadata": {
  "colab": {
   "provenance": []
  },
  "kernelspec": {
   "display_name": "Python 3 (ipykernel)",
   "language": "python",
   "name": "python3"
  },
  "language_info": {
   "codemirror_mode": {
    "name": "ipython",
    "version": 3
   },
   "file_extension": ".py",
   "mimetype": "text/x-python",
   "name": "python",
   "nbconvert_exporter": "python",
   "pygments_lexer": "ipython3",
   "version": "3.11.5"
  }
 },
 "nbformat": 4,
 "nbformat_minor": 4
}
