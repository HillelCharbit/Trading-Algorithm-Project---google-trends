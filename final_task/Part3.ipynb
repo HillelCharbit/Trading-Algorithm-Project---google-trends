{
  "cells": [
    {
      "cell_type": "markdown",
      "metadata": {
        "id": "G67ATDvbFsRc"
      },
      "source": [
        "# Part 3"
      ]
    },
    {
      "cell_type": "markdown",
      "metadata": {
        "id": "yIeBTeZAFRSf"
      },
      "source": [
        "### Import the relevant packages"
      ]
    },
    {
      "cell_type": "code",
      "execution_count": 1,
      "metadata": {
        "id": "J5Kh5ChwVt-T"
      },
      "outputs": [],
      "source": [
        "import numpy as np\n",
        "import pandas as pd\n",
        "import os"
      ]
    },
    {
      "cell_type": "markdown",
      "metadata": {
        "id": "m0e6p30FFej0"
      },
      "source": [
        "### Import the data and concatenate all the files so we can work with one file"
      ]
    },
    {
      "cell_type": "code",
      "execution_count": 2,
      "metadata": {
        "id": "7h2md7x_cOYm"
      },
      "outputs": [],
      "source": [
        "folder_path = 'data'\n",
        "\n",
        "options_dfs = []\n",
        "\n",
        "for filename in os.listdir(folder_path):\n",
        "    if ('2022' not in filename) and ('2023' not in filename):\n",
        "        continue\n",
        "    file_path = os.path.join(folder_path, filename)\n",
        "\n",
        "    options_df = pd.read_csv(file_path, low_memory=False)\n",
        "\n",
        "    options_dfs.append(options_df)\n",
        "\n",
        "options_df = pd.concat(options_dfs, ignore_index=True)\n",
        "\n",
        "# fix column names by removing [, ], \" \" characters\n",
        "options_df.columns = options_df.columns.str.strip('[] ')\n",
        "\n",
        "# Define data types for all columns\n",
        "for col in options_df.columns:\n",
        "    if col.startswith('C_') or col.startswith('P_'):\n",
        "        options_df[col] = pd.to_numeric(options_df[col], errors='coerce')\n",
        "\n",
        "dtypes = {\n",
        "    'QUOTE_UNIXTIME': 'int64',\n",
        "    'QUOTE_READTIME': 'datetime64[ns]',\n",
        "    'QUOTE_DATE': 'datetime64[ns]',\n",
        "    'QUOTE_TIME_HOURS': 'float64',\n",
        "    'UNDERLYING_LAST': 'float64',\n",
        "    'EXPIRE_DATE': 'datetime64[ns]',\n",
        "    'EXPIRE_UNIX': 'int64',\n",
        "    'DTE': 'float64',\n",
        "    'C_DELTA': 'float64',\n",
        "    'C_GAMMA': 'float64',\n",
        "    'C_VEGA': 'float64',\n",
        "    'C_THETA': 'float64',\n",
        "    'C_RHO': 'float64',\n",
        "    'C_IV': 'float64',\n",
        "    'C_VOLUME': 'float64',\n",
        "    'C_LAST': 'float64',\n",
        "    'C_SIZE': 'float64',\n",
        "    'C_BID': 'float64',\n",
        "    'C_ASK': 'float64',\n",
        "    'STRIKE': 'float64',\n",
        "    'P_BID': 'float64',\n",
        "    'P_ASK': 'float64',\n",
        "    'P_SIZE': 'float64',\n",
        "    'P_LAST': 'float64',\n",
        "    'P_DELTA': 'float64',\n",
        "    'P_VOLUME': 'float64',\n",
        "    'STRIKE_DISTANCE': 'float64',\n",
        "    'STRIKE_DISTANCE_PCT': 'float64'\n",
        "}\n",
        "\n",
        "# Convert columns to the specified data types\n",
        "options_df = options_df.astype(dtypes)"
      ]
    },
    {
      "cell_type": "markdown",
      "metadata": {
        "id": "xntP8EF2Fz1g"
      },
      "source": [
        "### Leave only the relevant rows"
      ]
    },
    {
      "cell_type": "code",
      "execution_count": 3,
      "metadata": {
        "id": "3JBPP8dJfUgA"
      },
      "outputs": [],
      "source": [
        "options_df = options_df[(options_df['C_VOLUME'] >= 100)  & (options_df['P_VOLUME'] >= 100)]"
      ]
    },
    {
      "cell_type": "markdown",
      "metadata": {
        "id": "bBB14ei8JeHy"
      },
      "source": [
        "### Define our profit, and what we should do to make it"
      ]
    },
    {
      "cell_type": "code",
      "execution_count": 4,
      "metadata": {
        "colab": {
          "base_uri": "https://localhost:8080/",
          "height": 206
        },
        "id": "qQk6BcClnV_R",
        "outputId": "b9fa8d2e-960f-4dc2-c36f-fb2923b8db9e"
      },
      "outputs": [],
      "source": [
        "options_df['Profit'] = (options_df['C_LAST'] + options_df['STRIKE'] - options_df['UNDERLYING_LAST'] - options_df['P_LAST']).abs()"
      ]
    },
    {
      "cell_type": "code",
      "execution_count": 7,
      "metadata": {
        "colab": {
          "base_uri": "https://localhost:8080/",
          "height": 206
        },
        "id": "JHpIXHUFnsMK",
        "outputId": "b3af60c0-7fd6-430d-9366-d47401c7861a"
      },
      "outputs": [
        {
          "data": {
            "text/html": [
              "<div>\n",
              "<style scoped>\n",
              "    .dataframe tbody tr th:only-of-type {\n",
              "        vertical-align: middle;\n",
              "    }\n",
              "\n",
              "    .dataframe tbody tr th {\n",
              "        vertical-align: top;\n",
              "    }\n",
              "\n",
              "    .dataframe thead th {\n",
              "        text-align: right;\n",
              "    }\n",
              "</style>\n",
              "<table border=\"1\" class=\"dataframe\">\n",
              "  <thead>\n",
              "    <tr style=\"text-align: right;\">\n",
              "      <th></th>\n",
              "      <th>QUOTE_DATE</th>\n",
              "      <th>C_LAST</th>\n",
              "      <th>P_LAST</th>\n",
              "      <th>UNDERLYING_LAST</th>\n",
              "      <th>STRIKE</th>\n",
              "      <th>Profit</th>\n",
              "      <th>Action</th>\n",
              "    </tr>\n",
              "  </thead>\n",
              "  <tbody>\n",
              "    <tr>\n",
              "      <th>175679</th>\n",
              "      <td>2023-03-22</td>\n",
              "      <td>51.89</td>\n",
              "      <td>32.64</td>\n",
              "      <td>306.07</td>\n",
              "      <td>310.0</td>\n",
              "      <td>23.18</td>\n",
              "      <td>Buy Put, Sell Call &amp; Take Loan equals to Strike</td>\n",
              "    </tr>\n",
              "    <tr>\n",
              "      <th>810730</th>\n",
              "      <td>2023-12-12</td>\n",
              "      <td>61.33</td>\n",
              "      <td>25.71</td>\n",
              "      <td>398.75</td>\n",
              "      <td>385.0</td>\n",
              "      <td>21.87</td>\n",
              "      <td>Buy Put, Sell Call &amp; Take Loan equals to Strike</td>\n",
              "    </tr>\n",
              "    <tr>\n",
              "      <th>123961</th>\n",
              "      <td>2023-03-01</td>\n",
              "      <td>47.20</td>\n",
              "      <td>30.65</td>\n",
              "      <td>291.16</td>\n",
              "      <td>295.0</td>\n",
              "      <td>20.39</td>\n",
              "      <td>Buy Put, Sell Call &amp; Take Loan equals to Strike</td>\n",
              "    </tr>\n",
              "    <tr>\n",
              "      <th>341143</th>\n",
              "      <td>2023-05-31</td>\n",
              "      <td>36.30</td>\n",
              "      <td>43.50</td>\n",
              "      <td>347.66</td>\n",
              "      <td>375.0</td>\n",
              "      <td>20.14</td>\n",
              "      <td>Buy Put, Sell Call &amp; Take Loan equals to Strike</td>\n",
              "    </tr>\n",
              "    <tr>\n",
              "      <th>507211</th>\n",
              "      <td>2023-08-07</td>\n",
              "      <td>58.98</td>\n",
              "      <td>24.45</td>\n",
              "      <td>375.18</td>\n",
              "      <td>360.0</td>\n",
              "      <td>19.35</td>\n",
              "      <td>Buy Put, Sell Call &amp; Take Loan equals to Strike</td>\n",
              "    </tr>\n",
              "  </tbody>\n",
              "</table>\n",
              "</div>"
            ],
            "text/plain": [
              "       QUOTE_DATE  C_LAST  P_LAST  UNDERLYING_LAST  STRIKE  Profit  \\\n",
              "175679 2023-03-22   51.89   32.64           306.07   310.0   23.18   \n",
              "810730 2023-12-12   61.33   25.71           398.75   385.0   21.87   \n",
              "123961 2023-03-01   47.20   30.65           291.16   295.0   20.39   \n",
              "341143 2023-05-31   36.30   43.50           347.66   375.0   20.14   \n",
              "507211 2023-08-07   58.98   24.45           375.18   360.0   19.35   \n",
              "\n",
              "                                                 Action  \n",
              "175679  Buy Put, Sell Call & Take Loan equals to Strike  \n",
              "810730  Buy Put, Sell Call & Take Loan equals to Strike  \n",
              "123961  Buy Put, Sell Call & Take Loan equals to Strike  \n",
              "341143  Buy Put, Sell Call & Take Loan equals to Strike  \n",
              "507211  Buy Put, Sell Call & Take Loan equals to Strike  "
            ]
          },
          "execution_count": 7,
          "metadata": {},
          "output_type": "execute_result"
        }
      ],
      "source": [
        "idx = options_df.groupby('QUOTE_DATE')['Profit'].idxmax()\n",
        "max_profit_df = options_df.loc[idx]\n",
        "max_profit_df['Action'] =  np.where(\n",
        "    (max_profit_df['C_LAST'] + max_profit_df['STRIKE'] - max_profit_df['UNDERLYING_LAST'] > max_profit_df['P_LAST']), 'Buy Put, Sell Call & Take Loan equals to Strike', 'Buy Call & Sell Put')\n",
        "max_profit_df.sort_values(by = 'Profit', ascending = False).head(5)[['QUOTE_DATE','C_LAST', 'P_LAST', 'UNDERLYING_LAST', 'STRIKE', 'Profit', 'Action']]"
      ]
    },
    {
      "cell_type": "markdown",
      "metadata": {
        "id": "KovzSgx0J-E6"
      },
      "source": [
        "### As we can see, these are to top 5 days in terms of profit."
      ]
    },
    {
      "cell_type": "code",
      "execution_count": 6,
      "metadata": {
        "colab": {
          "base_uri": "https://localhost:8080/"
        },
        "id": "xx2jRO5UyHqS",
        "outputId": "44a35a64-facb-4c81-ea12-d677acdbc833"
      },
      "outputs": [
        {
          "data": {
            "text/plain": [
              "226194.99999999997"
            ]
          },
          "execution_count": 6,
          "metadata": {},
          "output_type": "execute_result"
        }
      ],
      "source": [
        "max_profit_df.Profit.sum() * 100"
      ]
    },
    {
      "cell_type": "markdown",
      "metadata": {
        "id": "kuvXxBjNLX1U"
      },
      "source": [
        "### The over-all profit we suppose to do in terms of 100 units-deals"
      ]
    }
  ],
  "metadata": {
    "colab": {
      "provenance": []
    },
    "kernelspec": {
      "display_name": "Python 3",
      "name": "python3"
    },
    "language_info": {
      "codemirror_mode": {
        "name": "ipython",
        "version": 3
      },
      "file_extension": ".py",
      "mimetype": "text/x-python",
      "name": "python",
      "nbconvert_exporter": "python",
      "pygments_lexer": "ipython3",
      "version": "3.12.2"
    }
  },
  "nbformat": 4,
  "nbformat_minor": 0
}
